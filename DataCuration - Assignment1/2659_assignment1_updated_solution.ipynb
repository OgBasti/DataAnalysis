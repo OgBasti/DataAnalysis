{
 "cells": [
  {
   "cell_type": "markdown",
   "metadata": {
    "id": "aMsET9540ezR"
   },
   "source": [
    "## Assignment 1 Data Analysis using Pandas\n",
    "\n",
    "This assignment will contain 13 questions with details as below. The due date is Sunday, November 10th, 23:59 pm. Each late day will result in 20% loss of total points."
   ]
  },
  {
   "cell_type": "markdown",
   "metadata": {
    "id": "0ixiRTpx0ezT"
   },
   "source": [
    "The file of 'Daily reports (csse_covid_19_daily_reports)' contains 01-01-2023 (MM-DD-YYYY) daily case report. All timestamps are in UTC (GMT+0). More Description can be found in [COVID-19 Data Repository by the Center for Systems Science and Engineering (CSSE) at Johns Hopkins University.](https://github.com/CSSEGISandData/COVID-19)\n",
    "\n",
    "References:\n",
    "\n",
    "- Dong E, Du H, Gardner L. An interactive web-based dashboard to track COVID-19 in real time. Lancet Inf Dis. 20(5):533-534. doi: 10.1016/S1473-3099(20)30120-1\n"
   ]
  },
  {
   "cell_type": "markdown",
   "metadata": {
    "id": "HuawZ8oS0ezU"
   },
   "source": [
    "Field/Feature/Column names descriptions are listed as follows\n",
    "\n",
    "- FIPS: US only. Federal Information Processing Standards code that uniquely identifies counties within the USA.\n",
    "\n",
    "- Admin2: County name. US only.\n",
    "\n",
    "- Province_State: Province, state or dependency name.\n",
    "\n",
    "- Country_Region: Country, region or sovereignty name. The names of locations included on the Website correspond with the official designations used by the U.S. Department of State.\n",
    "\n",
    "- Last Update: MM/DD/YYYY HH:mm:ss (24 hour format, in UTC).\n",
    "\n",
    "- Lat and Long: Dot locations on the dashboard. All points (except for Australia) shown on the map are based on geographic centroids, and are not representative of a specific address, building or any location at a spatial scale finer than a province/state. Australian dots are located at the centroid of the largest city in each state.\n",
    "\n",
    "- Confirmed: Counts include confirmed and probable (where reported).\n",
    "\n",
    "- Deaths: Counts include confirmed and probable (where reported).\n",
    "\n",
    "- Recovered: Recovered cases are estimates based on local media reports, and state and local reporting when available, and therefore may be substantially lower than the true number. US state-level recovered cases are from COVID Tracking Project. We stopped to maintain the recovered cases.\n",
    "\n",
    "- Active: Active cases = total cases - total recovered - total deaths. This value is for reference only after we stopped to report the recovered cases.\n",
    "\n",
    "- Incident_Rate: Incidence Rate = cases per 100,000 persons.\n",
    "\n",
    "- Case_Fatality_Ratio (%): Case-Fatality Ratio (%) = 100 * Number recorded deaths / Number cases.\n",
    "\n",
    "- All cases, deaths, and recoveries reported are based on the date of initial report.\n"
   ]
  },
  {
   "cell_type": "markdown",
   "metadata": {
    "id": "7IfTdZtx0ezV"
   },
   "source": [
    "Note: Please download the dataset \"01-01-2023.csv\" from the moodle to your local path for performing the analysis, as some modification on the original data was done to suit the needs for this assignment."
   ]
  },
  {
   "cell_type": "code",
   "execution_count": 90,
   "metadata": {
    "id": "7pxSIZk20ezW"
   },
   "outputs": [],
   "source": [
    "import pandas as pd\n",
    "import numpy as np"
   ]
  },
  {
   "cell_type": "markdown",
   "metadata": {
    "id": "eszmTSTn0ezX"
   },
   "source": [
    "**Question 1 (2 points)**\n",
    "\n",
    "Now you need to use ```pandas``` to read the downloaded file from your local path. Print the column names, and also print a general description of it by using ```.describe()``` function.**"
   ]
  },
  {
   "cell_type": "code",
   "execution_count": 91,
   "metadata": {
    "id": "zFCfzR1-0ezX"
   },
   "outputs": [
    {
     "data": {
      "text/html": [
       "<div>\n",
       "<style scoped>\n",
       "    .dataframe tbody tr th:only-of-type {\n",
       "        vertical-align: middle;\n",
       "    }\n",
       "\n",
       "    .dataframe tbody tr th {\n",
       "        vertical-align: top;\n",
       "    }\n",
       "\n",
       "    .dataframe thead th {\n",
       "        text-align: right;\n",
       "    }\n",
       "</style>\n",
       "<table border=\"1\" class=\"dataframe\">\n",
       "  <thead>\n",
       "    <tr style=\"text-align: right;\">\n",
       "      <th></th>\n",
       "      <th>Admin2</th>\n",
       "      <th>Province_State</th>\n",
       "      <th>Country_Region</th>\n",
       "      <th>Last_Update</th>\n",
       "      <th>Lat</th>\n",
       "      <th>Long_</th>\n",
       "      <th>Confirmed</th>\n",
       "      <th>Deaths</th>\n",
       "      <th>Recovered</th>\n",
       "      <th>Active</th>\n",
       "      <th>Combined_Key</th>\n",
       "      <th>Incident_Rate</th>\n",
       "      <th>Case_Fatality_Ratio</th>\n",
       "    </tr>\n",
       "  </thead>\n",
       "  <tbody>\n",
       "    <tr>\n",
       "      <th>0</th>\n",
       "      <td>NaN</td>\n",
       "      <td>NaN</td>\n",
       "      <td>Afghanistan</td>\n",
       "      <td>2023-01-02 04:20:57</td>\n",
       "      <td>33.93911</td>\n",
       "      <td>67.709953</td>\n",
       "      <td>207616</td>\n",
       "      <td>7849</td>\n",
       "      <td>NaN</td>\n",
       "      <td>NaN</td>\n",
       "      <td>Afghanistan</td>\n",
       "      <td>533.328662</td>\n",
       "      <td>3.780537</td>\n",
       "    </tr>\n",
       "    <tr>\n",
       "      <th>1</th>\n",
       "      <td>NaN</td>\n",
       "      <td>NaN</td>\n",
       "      <td>Albania</td>\n",
       "      <td>2023-01-02 04:20:57</td>\n",
       "      <td>41.15330</td>\n",
       "      <td>20.168300</td>\n",
       "      <td>333811</td>\n",
       "      <td>3595</td>\n",
       "      <td>NaN</td>\n",
       "      <td>NaN</td>\n",
       "      <td>Albania</td>\n",
       "      <td>11599.520467</td>\n",
       "      <td>1.076957</td>\n",
       "    </tr>\n",
       "    <tr>\n",
       "      <th>2</th>\n",
       "      <td>NaN</td>\n",
       "      <td>NaN</td>\n",
       "      <td>Algeria</td>\n",
       "      <td>2023-01-02 04:20:57</td>\n",
       "      <td>28.03390</td>\n",
       "      <td>1.659600</td>\n",
       "      <td>271229</td>\n",
       "      <td>6881</td>\n",
       "      <td>NaN</td>\n",
       "      <td>NaN</td>\n",
       "      <td>Algeria</td>\n",
       "      <td>618.523486</td>\n",
       "      <td>2.536971</td>\n",
       "    </tr>\n",
       "    <tr>\n",
       "      <th>3</th>\n",
       "      <td>NaN</td>\n",
       "      <td>NaN</td>\n",
       "      <td>Andorra</td>\n",
       "      <td>2023-01-02 04:20:57</td>\n",
       "      <td>42.50630</td>\n",
       "      <td>1.521800</td>\n",
       "      <td>47751</td>\n",
       "      <td>165</td>\n",
       "      <td>NaN</td>\n",
       "      <td>NaN</td>\n",
       "      <td>Andorra</td>\n",
       "      <td>61801.591924</td>\n",
       "      <td>0.345543</td>\n",
       "    </tr>\n",
       "    <tr>\n",
       "      <th>4</th>\n",
       "      <td>NaN</td>\n",
       "      <td>NaN</td>\n",
       "      <td>Angola</td>\n",
       "      <td>2023-01-02 04:20:57</td>\n",
       "      <td>-11.20270</td>\n",
       "      <td>17.873900</td>\n",
       "      <td>105095</td>\n",
       "      <td>1930</td>\n",
       "      <td>NaN</td>\n",
       "      <td>NaN</td>\n",
       "      <td>Angola</td>\n",
       "      <td>319.765542</td>\n",
       "      <td>1.836434</td>\n",
       "    </tr>\n",
       "    <tr>\n",
       "      <th>...</th>\n",
       "      <td>...</td>\n",
       "      <td>...</td>\n",
       "      <td>...</td>\n",
       "      <td>...</td>\n",
       "      <td>...</td>\n",
       "      <td>...</td>\n",
       "      <td>...</td>\n",
       "      <td>...</td>\n",
       "      <td>...</td>\n",
       "      <td>...</td>\n",
       "      <td>...</td>\n",
       "      <td>...</td>\n",
       "      <td>...</td>\n",
       "    </tr>\n",
       "    <tr>\n",
       "      <th>95</th>\n",
       "      <td>NaN</td>\n",
       "      <td>Antofagasta</td>\n",
       "      <td>Chile</td>\n",
       "      <td>2023-01-02 04:20:57</td>\n",
       "      <td>-23.65090</td>\n",
       "      <td>-70.397500</td>\n",
       "      <td>178887</td>\n",
       "      <td>1924</td>\n",
       "      <td>NaN</td>\n",
       "      <td>NaN</td>\n",
       "      <td>Antofagasta, Chile</td>\n",
       "      <td>29444.771815</td>\n",
       "      <td>1.075539</td>\n",
       "    </tr>\n",
       "    <tr>\n",
       "      <th>96</th>\n",
       "      <td>NaN</td>\n",
       "      <td>Araucania</td>\n",
       "      <td>Chile</td>\n",
       "      <td>2023-01-02 04:20:57</td>\n",
       "      <td>-38.94890</td>\n",
       "      <td>-72.331100</td>\n",
       "      <td>286388</td>\n",
       "      <td>2851</td>\n",
       "      <td>NaN</td>\n",
       "      <td>NaN</td>\n",
       "      <td>Araucania, Chile</td>\n",
       "      <td>29918.597946</td>\n",
       "      <td>0.995503</td>\n",
       "    </tr>\n",
       "    <tr>\n",
       "      <th>97</th>\n",
       "      <td>NaN</td>\n",
       "      <td>Arica y Parinacota</td>\n",
       "      <td>Chile</td>\n",
       "      <td>2023-01-02 04:20:57</td>\n",
       "      <td>-18.59400</td>\n",
       "      <td>-69.478500</td>\n",
       "      <td>78369</td>\n",
       "      <td>881</td>\n",
       "      <td>NaN</td>\n",
       "      <td>NaN</td>\n",
       "      <td>Arica y Parinacota, Chile</td>\n",
       "      <td>34666.118159</td>\n",
       "      <td>1.124169</td>\n",
       "    </tr>\n",
       "    <tr>\n",
       "      <th>98</th>\n",
       "      <td>NaN</td>\n",
       "      <td>Atacama</td>\n",
       "      <td>Chile</td>\n",
       "      <td>2023-01-02 04:20:57</td>\n",
       "      <td>-27.56610</td>\n",
       "      <td>-70.050300</td>\n",
       "      <td>112012</td>\n",
       "      <td>699</td>\n",
       "      <td>NaN</td>\n",
       "      <td>NaN</td>\n",
       "      <td>Atacama, Chile</td>\n",
       "      <td>38765.989257</td>\n",
       "      <td>0.624040</td>\n",
       "    </tr>\n",
       "    <tr>\n",
       "      <th>99</th>\n",
       "      <td>NaN</td>\n",
       "      <td>Aysen</td>\n",
       "      <td>Chile</td>\n",
       "      <td>2023-01-02 04:20:57</td>\n",
       "      <td>-45.98640</td>\n",
       "      <td>-73.766900</td>\n",
       "      <td>35023</td>\n",
       "      <td>211</td>\n",
       "      <td>NaN</td>\n",
       "      <td>NaN</td>\n",
       "      <td>Aysen, Chile</td>\n",
       "      <td>33950.832703</td>\n",
       "      <td>0.602461</td>\n",
       "    </tr>\n",
       "  </tbody>\n",
       "</table>\n",
       "<p>100 rows × 13 columns</p>\n",
       "</div>"
      ],
      "text/plain": [
       "   Admin2      Province_State Country_Region          Last_Update       Lat  \\\n",
       "0     NaN                 NaN    Afghanistan  2023-01-02 04:20:57  33.93911   \n",
       "1     NaN                 NaN        Albania  2023-01-02 04:20:57  41.15330   \n",
       "2     NaN                 NaN        Algeria  2023-01-02 04:20:57  28.03390   \n",
       "3     NaN                 NaN        Andorra  2023-01-02 04:20:57  42.50630   \n",
       "4     NaN                 NaN         Angola  2023-01-02 04:20:57 -11.20270   \n",
       "..    ...                 ...            ...                  ...       ...   \n",
       "95    NaN         Antofagasta          Chile  2023-01-02 04:20:57 -23.65090   \n",
       "96    NaN           Araucania          Chile  2023-01-02 04:20:57 -38.94890   \n",
       "97    NaN  Arica y Parinacota          Chile  2023-01-02 04:20:57 -18.59400   \n",
       "98    NaN             Atacama          Chile  2023-01-02 04:20:57 -27.56610   \n",
       "99    NaN               Aysen          Chile  2023-01-02 04:20:57 -45.98640   \n",
       "\n",
       "        Long_  Confirmed  Deaths  Recovered  Active  \\\n",
       "0   67.709953     207616    7849        NaN     NaN   \n",
       "1   20.168300     333811    3595        NaN     NaN   \n",
       "2    1.659600     271229    6881        NaN     NaN   \n",
       "3    1.521800      47751     165        NaN     NaN   \n",
       "4   17.873900     105095    1930        NaN     NaN   \n",
       "..        ...        ...     ...        ...     ...   \n",
       "95 -70.397500     178887    1924        NaN     NaN   \n",
       "96 -72.331100     286388    2851        NaN     NaN   \n",
       "97 -69.478500      78369     881        NaN     NaN   \n",
       "98 -70.050300     112012     699        NaN     NaN   \n",
       "99 -73.766900      35023     211        NaN     NaN   \n",
       "\n",
       "                 Combined_Key  Incident_Rate  Case_Fatality_Ratio  \n",
       "0                 Afghanistan     533.328662             3.780537  \n",
       "1                     Albania   11599.520467             1.076957  \n",
       "2                     Algeria     618.523486             2.536971  \n",
       "3                     Andorra   61801.591924             0.345543  \n",
       "4                      Angola     319.765542             1.836434  \n",
       "..                        ...            ...                  ...  \n",
       "95         Antofagasta, Chile   29444.771815             1.075539  \n",
       "96           Araucania, Chile   29918.597946             0.995503  \n",
       "97  Arica y Parinacota, Chile   34666.118159             1.124169  \n",
       "98             Atacama, Chile   38765.989257             0.624040  \n",
       "99               Aysen, Chile   33950.832703             0.602461  \n",
       "\n",
       "[100 rows x 13 columns]"
      ]
     },
     "execution_count": 91,
     "metadata": {},
     "output_type": "execute_result"
    }
   ],
   "source": [
    "### Q1\n",
    "df = pd.read_csv('data_01-01-2023.csv')\n",
    "df = df.iloc[:, 1:]\n",
    "\n",
    "df.head(100)\n"
   ]
  },
  {
   "cell_type": "markdown",
   "metadata": {
    "id": "00U5V1Fb0ezY"
   },
   "source": [
    "**Question 2  (4 points)**\n",
    "\n",
    "Meanwhile, the data contains a few errors that need to be resolved:\n",
    "\n",
    "\n",
    "- the ```Long``` column is mistakenly encoded as ```Long_```\n",
    "- the ```Recovered``` column contains mostly missing values and needs to be deleted\n",
    "- the ```Active``` column and ```Recovered``` column contain mostly missing values and needs to be deleted\n",
    "- the ```Case_Fatality_Ratio``` column should be rounded to a floating-point number with 4 decimal places.\n",
    "\n",
    "**In the following questions, please work on the updated dataframe.**"
   ]
  },
  {
   "cell_type": "code",
   "execution_count": 92,
   "metadata": {
    "id": "IJeqvM7-0ezZ"
   },
   "outputs": [],
   "source": [
    "### Q2\n",
    "df.rename(columns={'Long_': 'Long'}, inplace=True)\n",
    "\n",
    "df.drop([\"Recovered\",\"Active\"], axis=1, inplace=True)\n",
    "\n",
    "df['Case_Fatality_Ratio'] = df['Case_Fatality_Ratio'].round(4)\n",
    "\n"
   ]
  },
  {
   "cell_type": "code",
   "execution_count": 93,
   "metadata": {},
   "outputs": [
    {
     "data": {
      "text/html": [
       "<div>\n",
       "<style scoped>\n",
       "    .dataframe tbody tr th:only-of-type {\n",
       "        vertical-align: middle;\n",
       "    }\n",
       "\n",
       "    .dataframe tbody tr th {\n",
       "        vertical-align: top;\n",
       "    }\n",
       "\n",
       "    .dataframe thead th {\n",
       "        text-align: right;\n",
       "    }\n",
       "</style>\n",
       "<table border=\"1\" class=\"dataframe\">\n",
       "  <thead>\n",
       "    <tr style=\"text-align: right;\">\n",
       "      <th></th>\n",
       "      <th>Admin2</th>\n",
       "      <th>Province_State</th>\n",
       "      <th>Country_Region</th>\n",
       "      <th>Last_Update</th>\n",
       "      <th>Lat</th>\n",
       "      <th>Long</th>\n",
       "      <th>Confirmed</th>\n",
       "      <th>Deaths</th>\n",
       "      <th>Combined_Key</th>\n",
       "      <th>Incident_Rate</th>\n",
       "      <th>Case_Fatality_Ratio</th>\n",
       "    </tr>\n",
       "  </thead>\n",
       "  <tbody>\n",
       "    <tr>\n",
       "      <th>0</th>\n",
       "      <td>NaN</td>\n",
       "      <td>NaN</td>\n",
       "      <td>Afghanistan</td>\n",
       "      <td>2023-01-02 04:20:57</td>\n",
       "      <td>33.939110</td>\n",
       "      <td>67.709953</td>\n",
       "      <td>207616</td>\n",
       "      <td>7849</td>\n",
       "      <td>Afghanistan</td>\n",
       "      <td>533.328662</td>\n",
       "      <td>3.7805</td>\n",
       "    </tr>\n",
       "    <tr>\n",
       "      <th>1</th>\n",
       "      <td>NaN</td>\n",
       "      <td>NaN</td>\n",
       "      <td>Albania</td>\n",
       "      <td>2023-01-02 04:20:57</td>\n",
       "      <td>41.153300</td>\n",
       "      <td>20.168300</td>\n",
       "      <td>333811</td>\n",
       "      <td>3595</td>\n",
       "      <td>Albania</td>\n",
       "      <td>11599.520467</td>\n",
       "      <td>1.0770</td>\n",
       "    </tr>\n",
       "    <tr>\n",
       "      <th>2</th>\n",
       "      <td>NaN</td>\n",
       "      <td>NaN</td>\n",
       "      <td>Algeria</td>\n",
       "      <td>2023-01-02 04:20:57</td>\n",
       "      <td>28.033900</td>\n",
       "      <td>1.659600</td>\n",
       "      <td>271229</td>\n",
       "      <td>6881</td>\n",
       "      <td>Algeria</td>\n",
       "      <td>618.523486</td>\n",
       "      <td>2.5370</td>\n",
       "    </tr>\n",
       "    <tr>\n",
       "      <th>3</th>\n",
       "      <td>NaN</td>\n",
       "      <td>NaN</td>\n",
       "      <td>Andorra</td>\n",
       "      <td>2023-01-02 04:20:57</td>\n",
       "      <td>42.506300</td>\n",
       "      <td>1.521800</td>\n",
       "      <td>47751</td>\n",
       "      <td>165</td>\n",
       "      <td>Andorra</td>\n",
       "      <td>61801.591924</td>\n",
       "      <td>0.3455</td>\n",
       "    </tr>\n",
       "    <tr>\n",
       "      <th>4</th>\n",
       "      <td>NaN</td>\n",
       "      <td>NaN</td>\n",
       "      <td>Angola</td>\n",
       "      <td>2023-01-02 04:20:57</td>\n",
       "      <td>-11.202700</td>\n",
       "      <td>17.873900</td>\n",
       "      <td>105095</td>\n",
       "      <td>1930</td>\n",
       "      <td>Angola</td>\n",
       "      <td>319.765542</td>\n",
       "      <td>1.8364</td>\n",
       "    </tr>\n",
       "    <tr>\n",
       "      <th>...</th>\n",
       "      <td>...</td>\n",
       "      <td>...</td>\n",
       "      <td>...</td>\n",
       "      <td>...</td>\n",
       "      <td>...</td>\n",
       "      <td>...</td>\n",
       "      <td>...</td>\n",
       "      <td>...</td>\n",
       "      <td>...</td>\n",
       "      <td>...</td>\n",
       "      <td>...</td>\n",
       "    </tr>\n",
       "    <tr>\n",
       "      <th>4011</th>\n",
       "      <td>NaN</td>\n",
       "      <td>NaN</td>\n",
       "      <td>West Bank and Gaza</td>\n",
       "      <td>2023-01-02 04:20:57</td>\n",
       "      <td>31.952200</td>\n",
       "      <td>35.233200</td>\n",
       "      <td>703228</td>\n",
       "      <td>5708</td>\n",
       "      <td>West Bank and Gaza</td>\n",
       "      <td>13784.956961</td>\n",
       "      <td>0.8117</td>\n",
       "    </tr>\n",
       "    <tr>\n",
       "      <th>4012</th>\n",
       "      <td>NaN</td>\n",
       "      <td>NaN</td>\n",
       "      <td>Winter Olympics 2022</td>\n",
       "      <td>2023-01-02 04:20:57</td>\n",
       "      <td>39.904200</td>\n",
       "      <td>116.407400</td>\n",
       "      <td>535</td>\n",
       "      <td>0</td>\n",
       "      <td>Winter Olympics 2022</td>\n",
       "      <td>NaN</td>\n",
       "      <td>0.0000</td>\n",
       "    </tr>\n",
       "    <tr>\n",
       "      <th>4013</th>\n",
       "      <td>NaN</td>\n",
       "      <td>NaN</td>\n",
       "      <td>Yemen</td>\n",
       "      <td>2023-01-02 04:20:57</td>\n",
       "      <td>15.552727</td>\n",
       "      <td>48.516388</td>\n",
       "      <td>11945</td>\n",
       "      <td>2159</td>\n",
       "      <td>Yemen</td>\n",
       "      <td>40.048994</td>\n",
       "      <td>18.0745</td>\n",
       "    </tr>\n",
       "    <tr>\n",
       "      <th>4014</th>\n",
       "      <td>NaN</td>\n",
       "      <td>NaN</td>\n",
       "      <td>Zambia</td>\n",
       "      <td>2023-01-02 04:20:57</td>\n",
       "      <td>-13.133897</td>\n",
       "      <td>27.849332</td>\n",
       "      <td>334629</td>\n",
       "      <td>4024</td>\n",
       "      <td>Zambia</td>\n",
       "      <td>1820.223025</td>\n",
       "      <td>1.2025</td>\n",
       "    </tr>\n",
       "    <tr>\n",
       "      <th>4015</th>\n",
       "      <td>NaN</td>\n",
       "      <td>NaN</td>\n",
       "      <td>Zimbabwe</td>\n",
       "      <td>2023-01-02 04:20:57</td>\n",
       "      <td>-19.015438</td>\n",
       "      <td>29.154857</td>\n",
       "      <td>259981</td>\n",
       "      <td>5637</td>\n",
       "      <td>Zimbabwe</td>\n",
       "      <td>1749.191125</td>\n",
       "      <td>2.1682</td>\n",
       "    </tr>\n",
       "  </tbody>\n",
       "</table>\n",
       "<p>4016 rows × 11 columns</p>\n",
       "</div>"
      ],
      "text/plain": [
       "     Admin2 Province_State        Country_Region          Last_Update  \\\n",
       "0       NaN            NaN           Afghanistan  2023-01-02 04:20:57   \n",
       "1       NaN            NaN               Albania  2023-01-02 04:20:57   \n",
       "2       NaN            NaN               Algeria  2023-01-02 04:20:57   \n",
       "3       NaN            NaN               Andorra  2023-01-02 04:20:57   \n",
       "4       NaN            NaN                Angola  2023-01-02 04:20:57   \n",
       "...     ...            ...                   ...                  ...   \n",
       "4011    NaN            NaN    West Bank and Gaza  2023-01-02 04:20:57   \n",
       "4012    NaN            NaN  Winter Olympics 2022  2023-01-02 04:20:57   \n",
       "4013    NaN            NaN                 Yemen  2023-01-02 04:20:57   \n",
       "4014    NaN            NaN                Zambia  2023-01-02 04:20:57   \n",
       "4015    NaN            NaN              Zimbabwe  2023-01-02 04:20:57   \n",
       "\n",
       "            Lat        Long  Confirmed  Deaths          Combined_Key  \\\n",
       "0     33.939110   67.709953     207616    7849           Afghanistan   \n",
       "1     41.153300   20.168300     333811    3595               Albania   \n",
       "2     28.033900    1.659600     271229    6881               Algeria   \n",
       "3     42.506300    1.521800      47751     165               Andorra   \n",
       "4    -11.202700   17.873900     105095    1930                Angola   \n",
       "...         ...         ...        ...     ...                   ...   \n",
       "4011  31.952200   35.233200     703228    5708    West Bank and Gaza   \n",
       "4012  39.904200  116.407400        535       0  Winter Olympics 2022   \n",
       "4013  15.552727   48.516388      11945    2159                 Yemen   \n",
       "4014 -13.133897   27.849332     334629    4024                Zambia   \n",
       "4015 -19.015438   29.154857     259981    5637              Zimbabwe   \n",
       "\n",
       "      Incident_Rate  Case_Fatality_Ratio  \n",
       "0        533.328662               3.7805  \n",
       "1      11599.520467               1.0770  \n",
       "2        618.523486               2.5370  \n",
       "3      61801.591924               0.3455  \n",
       "4        319.765542               1.8364  \n",
       "...             ...                  ...  \n",
       "4011   13784.956961               0.8117  \n",
       "4012            NaN               0.0000  \n",
       "4013      40.048994              18.0745  \n",
       "4014    1820.223025               1.2025  \n",
       "4015    1749.191125               2.1682  \n",
       "\n",
       "[4016 rows x 11 columns]"
      ]
     },
     "execution_count": 93,
     "metadata": {},
     "output_type": "execute_result"
    }
   ],
   "source": [
    "df"
   ]
  },
  {
   "cell_type": "markdown",
   "metadata": {},
   "source": [
    "**Grading: students will lose 1 point for each incorrect command. There is a typo in the updated question: if studetns updated the \"Incident_Rate\" column (which was required in the previous version of the assignment), it will not affect the subsequent questions and the grading.**"
   ]
  },
  {
   "cell_type": "markdown",
   "metadata": {
    "id": "zhEopJ_S0ezZ"
   },
   "source": [
    "**Question 3  (2 points)**\n",
    "\n",
    "The column ```Last_Update``` involves some timestamps that are not in the year of 2023. Find them out and delete those rows.\n",
    "\n",
    "**The updated dataframe should have only rows with timestamp in 2023. Please work on this updated dataframe in following questions.**\n",
    "\n",
    "Hint: use value_counts() to count unique values first."
   ]
  },
  {
   "cell_type": "code",
   "execution_count": 94,
   "metadata": {
    "id": "UbIvBC530ezZ"
   },
   "outputs": [
    {
     "data": {
      "text/plain": [
       "Last_Update\n",
       "2023-01-02 04:20:57    4002\n",
       "2020-12-21 13:27:30       5\n",
       "2022-11-22 23:21:06       2\n",
       "2020-08-04 02:27:56       2\n",
       "2022-10-21 23:21:56       1\n",
       "2022-09-12 23:21:04       1\n",
       "2020-08-07 22:34:20       1\n",
       "2021-10-10 23:21:42       1\n",
       "2021-07-31 23:21:38       1\n",
       "Name: count, dtype: int64"
      ]
     },
     "execution_count": 94,
     "metadata": {},
     "output_type": "execute_result"
    }
   ],
   "source": [
    "### Q3\n",
    "df.Last_Update.value_counts()"
   ]
  },
  {
   "cell_type": "code",
   "execution_count": 95,
   "metadata": {},
   "outputs": [
    {
     "data": {
      "text/plain": [
       "'2023-01-02 04:20:57'"
      ]
     },
     "execution_count": 95,
     "metadata": {},
     "output_type": "execute_result"
    }
   ],
   "source": [
    "Last_Update_2023 = df.Last_Update.value_counts().index[0]\n",
    "Last_Update_2023"
   ]
  },
  {
   "cell_type": "code",
   "execution_count": 96,
   "metadata": {},
   "outputs": [
    {
     "data": {
      "text/plain": [
       "Last_Update\n",
       "2023-01-02 04:20:57    4002\n",
       "Name: count, dtype: int64"
      ]
     },
     "execution_count": 96,
     "metadata": {},
     "output_type": "execute_result"
    }
   ],
   "source": [
    "df45 = df[df[\"Last_Update\"] == Last_Update_2023]\n",
    "df45[\"Last_Update\"].value_counts()"
   ]
  },
  {
   "cell_type": "code",
   "execution_count": 97,
   "metadata": {},
   "outputs": [],
   "source": [
    "mask = df[\"Last_Update\"] == Last_Update_2023\n",
    "df = df[mask]"
   ]
  },
  {
   "cell_type": "code",
   "execution_count": 98,
   "metadata": {},
   "outputs": [
    {
     "data": {
      "text/plain": [
       "Last_Update\n",
       "2023-01-02 04:20:57    4002\n",
       "Name: count, dtype: int64"
      ]
     },
     "execution_count": 98,
     "metadata": {},
     "output_type": "execute_result"
    }
   ],
   "source": [
    "df.Last_Update.value_counts()"
   ]
  },
  {
   "cell_type": "markdown",
   "metadata": {
    "id": "Yk2aXUNi0eza"
   },
   "source": [
    "**Question 4  (2 points)**\n",
    "\n",
    "There are two provinces/states that have the same latitude (```Lat```) 52.939900. Print out these two provinces/states."
   ]
  },
  {
   "cell_type": "code",
   "execution_count": 99,
   "metadata": {},
   "outputs": [],
   "source": [
    "Lat = df[\"Lat\"].value_counts().index[0]"
   ]
  },
  {
   "cell_type": "code",
   "execution_count": 100,
   "metadata": {},
   "outputs": [
    {
     "data": {
      "text/plain": [
       "array(['Quebec', 'Saskatchewan'], dtype=object)"
      ]
     },
     "execution_count": 100,
     "metadata": {},
     "output_type": "execute_result"
    }
   ],
   "source": [
    "df[df[\"Lat\"]==Lat][\"Province_State\"].values"
   ]
  },
  {
   "cell_type": "code",
   "execution_count": 101,
   "metadata": {
    "id": "9LvwzA3O0eza",
    "scrolled": true
   },
   "outputs": [
    {
     "data": {
      "text/plain": [
       "89          Quebec\n",
       "91    Saskatchewan\n",
       "Name: Province_State, dtype: object"
      ]
     },
     "execution_count": 101,
     "metadata": {},
     "output_type": "execute_result"
    }
   ],
   "source": [
    "### Q4\n",
    "df[df.Lat== 52.939900].Province_State"
   ]
  },
  {
   "cell_type": "markdown",
   "metadata": {
    "id": "YHNqX0rW0eza"
   },
   "source": [
    "**Question 5  (2 points)**\n",
    "\n",
    "Calculate and display the average ```Confirmed``` cases across all regions (report one overall average).\n",
    "\n",
    "Calculate and display the median Deaths for U.S. counties (report one overall median)."
   ]
  },
  {
   "cell_type": "code",
   "execution_count": 102,
   "metadata": {
    "id": "3_qX8_P_0eza"
   },
   "outputs": [
    {
     "data": {
      "text/plain": [
       "165106.29985007495"
      ]
     },
     "execution_count": 102,
     "metadata": {},
     "output_type": "execute_result"
    }
   ],
   "source": [
    "### Q5\n",
    "df['Confirmed'].mean()"
   ]
  },
  {
   "cell_type": "code",
   "execution_count": 103,
   "metadata": {},
   "outputs": [
    {
     "data": {
      "text/plain": [
       "103.0"
      ]
     },
     "execution_count": 103,
     "metadata": {},
     "output_type": "execute_result"
    }
   ],
   "source": [
    "df[df[\"Country_Region\"] == \"US\"][\"Deaths\"].median()"
   ]
  },
  {
   "cell_type": "code",
   "execution_count": 104,
   "metadata": {},
   "outputs": [
    {
     "data": {
      "text/plain": [
       "103.0"
      ]
     },
     "execution_count": 104,
     "metadata": {},
     "output_type": "execute_result"
    }
   ],
   "source": [
    "df.loc[df['Country_Region']=='US', 'Deaths'].median()"
   ]
  },
  {
   "cell_type": "markdown",
   "metadata": {
    "id": "i9pfMJlk0eza"
   },
   "source": [
    "**Question 6 (2 points)**\n",
    "\n",
    "Show the difference of average ```Deaths``` number between Alabama in US and Wyoming in US ."
   ]
  },
  {
   "cell_type": "code",
   "execution_count": 105,
   "metadata": {
    "id": "a66cHJgQ0eza"
   },
   "outputs": [
    {
     "data": {
      "text/plain": [
       "227.92412935323387"
      ]
     },
     "execution_count": 105,
     "metadata": {},
     "output_type": "execute_result"
    }
   ],
   "source": [
    "### Q6\n",
    "df[(df['Country_Region']=='US') & (df['Province_State']=='Alabama')].Deaths.mean() - df[(df['Country_Region']=='US') & (df['Province_State']=='Wyoming')].Deaths.mean()"
   ]
  },
  {
   "cell_type": "code",
   "execution_count": 106,
   "metadata": {},
   "outputs": [
    {
     "data": {
      "text/plain": [
       "309.5074626865672"
      ]
     },
     "execution_count": 106,
     "metadata": {},
     "output_type": "execute_result"
    }
   ],
   "source": [
    "al = df[(df[\"Country_Region\"].str.contains(\"US\")) & df[\"Province_State\"].str.contains(\"Alabama\")][\"Deaths\"].mean()\n",
    "al"
   ]
  },
  {
   "cell_type": "code",
   "execution_count": 107,
   "metadata": {},
   "outputs": [
    {
     "data": {
      "text/plain": [
       "81.58333333333333"
      ]
     },
     "execution_count": 107,
     "metadata": {},
     "output_type": "execute_result"
    }
   ],
   "source": [
    "wy = df[(df[\"Country_Region\"].str.contains(\"US\")) & df[\"Province_State\"].str.contains(\"Wyoming\")][\"Deaths\"].mean()\n",
    "wy"
   ]
  },
  {
   "cell_type": "code",
   "execution_count": 108,
   "metadata": {},
   "outputs": [
    {
     "data": {
      "text/plain": [
       "227.92412935323387"
      ]
     },
     "execution_count": 108,
     "metadata": {},
     "output_type": "execute_result"
    }
   ],
   "source": [
    "al-wy"
   ]
  },
  {
   "cell_type": "markdown",
   "metadata": {
    "id": "F-WyrqBA0ezb"
   },
   "source": [
    "**Question 7 (4 points)**\n",
    "\n",
    "Create a subset of the DataFrame containing only samples collected in the U.S. where ```Admin2``` is not \"Unassigned\" and and ```Confirmed``` is a positive number.\n",
    "\n",
    "Extract the State Name: Using the values in the Combined_Key column, create a new column called State_recovered that contains only the name of the province, state, or dependency. Exclude any county names and country/region information. For example, when Combined_Key is \"Autauga, Alabama, US\", the extracted state name should be \"Alabama\". You cannot just copy the value from the column Province_State. \n",
    "\n",
    "**Note: In the following questions, use this U.S. subset DataFrame.**"
   ]
  },
  {
   "cell_type": "code",
   "execution_count": 123,
   "metadata": {},
   "outputs": [],
   "source": [
    "df12 = df[(df.Country_Region=='US') & (df.Admin2 != 'Unassigned') & (df.Confirmed > 0)].copy()\n",
    "names = df12[\"Combined_Key\"].apply(lambda x: str(x).split(\",\")[-2].strip())\n",
    "df12[\"State_recovered\"] = names"
   ]
  },
  {
   "cell_type": "code",
   "execution_count": 110,
   "metadata": {
    "id": "USe5B4lu0ezb",
    "scrolled": true
   },
   "outputs": [
    {
     "data": {
      "text/html": [
       "<div>\n",
       "<style scoped>\n",
       "    .dataframe tbody tr th:only-of-type {\n",
       "        vertical-align: middle;\n",
       "    }\n",
       "\n",
       "    .dataframe tbody tr th {\n",
       "        vertical-align: top;\n",
       "    }\n",
       "\n",
       "    .dataframe thead th {\n",
       "        text-align: right;\n",
       "    }\n",
       "</style>\n",
       "<table border=\"1\" class=\"dataframe\">\n",
       "  <thead>\n",
       "    <tr style=\"text-align: right;\">\n",
       "      <th></th>\n",
       "      <th>Admin2</th>\n",
       "      <th>Province_State</th>\n",
       "      <th>Country_Region</th>\n",
       "      <th>Last_Update</th>\n",
       "      <th>Lat</th>\n",
       "      <th>Long</th>\n",
       "      <th>Confirmed</th>\n",
       "      <th>Deaths</th>\n",
       "      <th>Combined_Key</th>\n",
       "      <th>Incident_Rate</th>\n",
       "      <th>Case_Fatality_Ratio</th>\n",
       "      <th>State_recovered</th>\n",
       "    </tr>\n",
       "  </thead>\n",
       "  <tbody>\n",
       "    <tr>\n",
       "      <th>678</th>\n",
       "      <td>Autauga</td>\n",
       "      <td>Alabama</td>\n",
       "      <td>US</td>\n",
       "      <td>2023-01-02 04:20:57</td>\n",
       "      <td>32.539527</td>\n",
       "      <td>-86.644082</td>\n",
       "      <td>18961</td>\n",
       "      <td>230</td>\n",
       "      <td>Autauga, Alabama, US</td>\n",
       "      <td>33938.319999</td>\n",
       "      <td>1.2130</td>\n",
       "      <td>Alabama</td>\n",
       "    </tr>\n",
       "    <tr>\n",
       "      <th>679</th>\n",
       "      <td>Baldwin</td>\n",
       "      <td>Alabama</td>\n",
       "      <td>US</td>\n",
       "      <td>2023-01-02 04:20:57</td>\n",
       "      <td>30.727750</td>\n",
       "      <td>-87.722071</td>\n",
       "      <td>67496</td>\n",
       "      <td>719</td>\n",
       "      <td>Baldwin, Alabama, US</td>\n",
       "      <td>30235.537597</td>\n",
       "      <td>1.0652</td>\n",
       "      <td>Alabama</td>\n",
       "    </tr>\n",
       "    <tr>\n",
       "      <th>680</th>\n",
       "      <td>Barbour</td>\n",
       "      <td>Alabama</td>\n",
       "      <td>US</td>\n",
       "      <td>2023-01-02 04:20:57</td>\n",
       "      <td>31.868263</td>\n",
       "      <td>-85.387129</td>\n",
       "      <td>7027</td>\n",
       "      <td>103</td>\n",
       "      <td>Barbour, Alabama, US</td>\n",
       "      <td>28465.527019</td>\n",
       "      <td>1.4658</td>\n",
       "      <td>Alabama</td>\n",
       "    </tr>\n",
       "    <tr>\n",
       "      <th>681</th>\n",
       "      <td>Bibb</td>\n",
       "      <td>Alabama</td>\n",
       "      <td>US</td>\n",
       "      <td>2023-01-02 04:20:57</td>\n",
       "      <td>32.996421</td>\n",
       "      <td>-87.125115</td>\n",
       "      <td>7692</td>\n",
       "      <td>108</td>\n",
       "      <td>Bibb, Alabama, US</td>\n",
       "      <td>34348.486202</td>\n",
       "      <td>1.4041</td>\n",
       "      <td>Alabama</td>\n",
       "    </tr>\n",
       "    <tr>\n",
       "      <th>682</th>\n",
       "      <td>Blount</td>\n",
       "      <td>Alabama</td>\n",
       "      <td>US</td>\n",
       "      <td>2023-01-02 04:20:57</td>\n",
       "      <td>33.982109</td>\n",
       "      <td>-86.567906</td>\n",
       "      <td>17731</td>\n",
       "      <td>260</td>\n",
       "      <td>Blount, Alabama, US</td>\n",
       "      <td>30662.677688</td>\n",
       "      <td>1.4664</td>\n",
       "      <td>Alabama</td>\n",
       "    </tr>\n",
       "    <tr>\n",
       "      <th>...</th>\n",
       "      <td>...</td>\n",
       "      <td>...</td>\n",
       "      <td>...</td>\n",
       "      <td>...</td>\n",
       "      <td>...</td>\n",
       "      <td>...</td>\n",
       "      <td>...</td>\n",
       "      <td>...</td>\n",
       "      <td>...</td>\n",
       "      <td>...</td>\n",
       "      <td>...</td>\n",
       "      <td>...</td>\n",
       "    </tr>\n",
       "    <tr>\n",
       "      <th>3951</th>\n",
       "      <td>Sweetwater</td>\n",
       "      <td>Wyoming</td>\n",
       "      <td>US</td>\n",
       "      <td>2023-01-02 04:20:57</td>\n",
       "      <td>41.659439</td>\n",
       "      <td>-108.882788</td>\n",
       "      <td>12410</td>\n",
       "      <td>136</td>\n",
       "      <td>Sweetwater, Wyoming, US</td>\n",
       "      <td>29308.268191</td>\n",
       "      <td>1.0959</td>\n",
       "      <td>Wyoming</td>\n",
       "    </tr>\n",
       "    <tr>\n",
       "      <th>3952</th>\n",
       "      <td>Teton</td>\n",
       "      <td>Wyoming</td>\n",
       "      <td>US</td>\n",
       "      <td>2023-01-02 04:20:57</td>\n",
       "      <td>43.935225</td>\n",
       "      <td>-110.589080</td>\n",
       "      <td>12010</td>\n",
       "      <td>16</td>\n",
       "      <td>Teton, Wyoming, US</td>\n",
       "      <td>51184.793727</td>\n",
       "      <td>0.1332</td>\n",
       "      <td>Wyoming</td>\n",
       "    </tr>\n",
       "    <tr>\n",
       "      <th>3953</th>\n",
       "      <td>Uinta</td>\n",
       "      <td>Wyoming</td>\n",
       "      <td>US</td>\n",
       "      <td>2023-01-02 04:20:57</td>\n",
       "      <td>41.287818</td>\n",
       "      <td>-110.547578</td>\n",
       "      <td>6305</td>\n",
       "      <td>43</td>\n",
       "      <td>Uinta, Wyoming, US</td>\n",
       "      <td>31172.747948</td>\n",
       "      <td>0.6820</td>\n",
       "      <td>Wyoming</td>\n",
       "    </tr>\n",
       "    <tr>\n",
       "      <th>3955</th>\n",
       "      <td>Washakie</td>\n",
       "      <td>Wyoming</td>\n",
       "      <td>US</td>\n",
       "      <td>2023-01-02 04:20:57</td>\n",
       "      <td>43.904516</td>\n",
       "      <td>-107.680187</td>\n",
       "      <td>2722</td>\n",
       "      <td>47</td>\n",
       "      <td>Washakie, Wyoming, US</td>\n",
       "      <td>34875.080077</td>\n",
       "      <td>1.7267</td>\n",
       "      <td>Wyoming</td>\n",
       "    </tr>\n",
       "    <tr>\n",
       "      <th>3956</th>\n",
       "      <td>Weston</td>\n",
       "      <td>Wyoming</td>\n",
       "      <td>US</td>\n",
       "      <td>2023-01-02 04:20:57</td>\n",
       "      <td>43.839612</td>\n",
       "      <td>-104.567488</td>\n",
       "      <td>1880</td>\n",
       "      <td>22</td>\n",
       "      <td>Weston, Wyoming, US</td>\n",
       "      <td>27140.176122</td>\n",
       "      <td>1.1702</td>\n",
       "      <td>Wyoming</td>\n",
       "    </tr>\n",
       "  </tbody>\n",
       "</table>\n",
       "<p>3213 rows × 12 columns</p>\n",
       "</div>"
      ],
      "text/plain": [
       "          Admin2 Province_State Country_Region          Last_Update  \\\n",
       "678      Autauga        Alabama             US  2023-01-02 04:20:57   \n",
       "679      Baldwin        Alabama             US  2023-01-02 04:20:57   \n",
       "680      Barbour        Alabama             US  2023-01-02 04:20:57   \n",
       "681         Bibb        Alabama             US  2023-01-02 04:20:57   \n",
       "682       Blount        Alabama             US  2023-01-02 04:20:57   \n",
       "...          ...            ...            ...                  ...   \n",
       "3951  Sweetwater        Wyoming             US  2023-01-02 04:20:57   \n",
       "3952       Teton        Wyoming             US  2023-01-02 04:20:57   \n",
       "3953       Uinta        Wyoming             US  2023-01-02 04:20:57   \n",
       "3955    Washakie        Wyoming             US  2023-01-02 04:20:57   \n",
       "3956      Weston        Wyoming             US  2023-01-02 04:20:57   \n",
       "\n",
       "            Lat        Long  Confirmed  Deaths             Combined_Key  \\\n",
       "678   32.539527  -86.644082      18961     230     Autauga, Alabama, US   \n",
       "679   30.727750  -87.722071      67496     719     Baldwin, Alabama, US   \n",
       "680   31.868263  -85.387129       7027     103     Barbour, Alabama, US   \n",
       "681   32.996421  -87.125115       7692     108        Bibb, Alabama, US   \n",
       "682   33.982109  -86.567906      17731     260      Blount, Alabama, US   \n",
       "...         ...         ...        ...     ...                      ...   \n",
       "3951  41.659439 -108.882788      12410     136  Sweetwater, Wyoming, US   \n",
       "3952  43.935225 -110.589080      12010      16       Teton, Wyoming, US   \n",
       "3953  41.287818 -110.547578       6305      43       Uinta, Wyoming, US   \n",
       "3955  43.904516 -107.680187       2722      47    Washakie, Wyoming, US   \n",
       "3956  43.839612 -104.567488       1880      22      Weston, Wyoming, US   \n",
       "\n",
       "      Incident_Rate  Case_Fatality_Ratio State_recovered  \n",
       "678    33938.319999               1.2130         Alabama  \n",
       "679    30235.537597               1.0652         Alabama  \n",
       "680    28465.527019               1.4658         Alabama  \n",
       "681    34348.486202               1.4041         Alabama  \n",
       "682    30662.677688               1.4664         Alabama  \n",
       "...             ...                  ...             ...  \n",
       "3951   29308.268191               1.0959         Wyoming  \n",
       "3952   51184.793727               0.1332         Wyoming  \n",
       "3953   31172.747948               0.6820         Wyoming  \n",
       "3955   34875.080077               1.7267         Wyoming  \n",
       "3956   27140.176122               1.1702         Wyoming  \n",
       "\n",
       "[3213 rows x 12 columns]"
      ]
     },
     "execution_count": 110,
     "metadata": {},
     "output_type": "execute_result"
    }
   ],
   "source": [
    "### Q7\n",
    "df1 = df[(df.Country_Region=='US') & (df.Admin2 != 'Unassigned') & (df.Confirmed > 0)].copy()\n",
    "df1['State_recovered'] = [','.join(x[-2:-1]).strip() for x in df1.Combined_Key.str.split(',')]\n",
    "df1"
   ]
  },
  {
   "cell_type": "code",
   "execution_count": 124,
   "metadata": {},
   "outputs": [
    {
     "data": {
      "text/plain": [
       "State_recovered\n",
       "True    3213\n",
       "Name: count, dtype: int64"
      ]
     },
     "execution_count": 124,
     "metadata": {},
     "output_type": "execute_result"
    }
   ],
   "source": [
    "(df12[\"State_recovered\"] == df1[\"State_recovered\"]).value_counts()"
   ]
  },
  {
   "cell_type": "code",
   "execution_count": 111,
   "metadata": {},
   "outputs": [
    {
     "data": {
      "text/plain": [
       "(3213, 12)"
      ]
     },
     "execution_count": 111,
     "metadata": {},
     "output_type": "execute_result"
    }
   ],
   "source": [
    "df1.shape"
   ]
  },
  {
   "cell_type": "markdown",
   "metadata": {},
   "source": [
    "**Grading: if a dataframe with different number of rows was produced, the student could get paritial grade depending on if the solution makes some sense.**"
   ]
  },
  {
   "cell_type": "markdown",
   "metadata": {
    "id": "5BhnCJ_x0ezb"
   },
   "source": [
    "**Question 8 (2 points)**\n",
    "\n",
    "Compute the correlation between ```Confirmed, Deaths, Incident_Rate, Case_Fatality_Ratio```. What do you observe?"
   ]
  },
  {
   "cell_type": "code",
   "execution_count": 112,
   "metadata": {
    "id": "sIqW2dH_3iOw"
   },
   "outputs": [
    {
     "data": {
      "text/html": [
       "<div>\n",
       "<style scoped>\n",
       "    .dataframe tbody tr th:only-of-type {\n",
       "        vertical-align: middle;\n",
       "    }\n",
       "\n",
       "    .dataframe tbody tr th {\n",
       "        vertical-align: top;\n",
       "    }\n",
       "\n",
       "    .dataframe thead th {\n",
       "        text-align: right;\n",
       "    }\n",
       "</style>\n",
       "<table border=\"1\" class=\"dataframe\">\n",
       "  <thead>\n",
       "    <tr style=\"text-align: right;\">\n",
       "      <th></th>\n",
       "      <th>Confirmed</th>\n",
       "      <th>Deaths</th>\n",
       "      <th>Incident_Rate</th>\n",
       "      <th>Case_Fatality_Ratio</th>\n",
       "    </tr>\n",
       "  </thead>\n",
       "  <tbody>\n",
       "    <tr>\n",
       "      <th>Confirmed</th>\n",
       "      <td>1.000000</td>\n",
       "      <td>0.967878</td>\n",
       "      <td>0.053755</td>\n",
       "      <td>-0.134910</td>\n",
       "    </tr>\n",
       "    <tr>\n",
       "      <th>Deaths</th>\n",
       "      <td>0.967878</td>\n",
       "      <td>1.000000</td>\n",
       "      <td>0.048418</td>\n",
       "      <td>-0.070780</td>\n",
       "    </tr>\n",
       "    <tr>\n",
       "      <th>Incident_Rate</th>\n",
       "      <td>0.053755</td>\n",
       "      <td>0.048418</td>\n",
       "      <td>1.000000</td>\n",
       "      <td>-0.256702</td>\n",
       "    </tr>\n",
       "    <tr>\n",
       "      <th>Case_Fatality_Ratio</th>\n",
       "      <td>-0.134910</td>\n",
       "      <td>-0.070780</td>\n",
       "      <td>-0.256702</td>\n",
       "      <td>1.000000</td>\n",
       "    </tr>\n",
       "  </tbody>\n",
       "</table>\n",
       "</div>"
      ],
      "text/plain": [
       "                     Confirmed    Deaths  Incident_Rate  Case_Fatality_Ratio\n",
       "Confirmed             1.000000  0.967878       0.053755            -0.134910\n",
       "Deaths                0.967878  1.000000       0.048418            -0.070780\n",
       "Incident_Rate         0.053755  0.048418       1.000000            -0.256702\n",
       "Case_Fatality_Ratio  -0.134910 -0.070780      -0.256702             1.000000"
      ]
     },
     "execution_count": 112,
     "metadata": {},
     "output_type": "execute_result"
    }
   ],
   "source": [
    "### Q8\n",
    "df1[['Confirmed','Deaths','Incident_Rate', 'Case_Fatality_Ratio']].corr()"
   ]
  },
  {
   "cell_type": "markdown",
   "metadata": {},
   "source": [
    "**grading: as long as long the student uses corr() function with the four variables, the solution is correct.**"
   ]
  },
  {
   "cell_type": "markdown",
   "metadata": {
    "id": "wy5Tai0B0ezc"
   },
   "source": [
    "**Question 10 (2 points)**\n",
    "Create a new column ```Case_Fatality_Ratio_short``` to extract and store (**not round**) the first three digits of the original values in the column ```Case_Fatality_Ratio```. For example, when the original value is 1.213016, we should extract 1.21.\n",
    "\n",
    "Create a new column ```Case_Fatality_Ratio_calculated``` and compute Case-Fatality Ratio(%) by yourself. Extract and Store the first three digits of the computed values as well.\n",
    "\n",
    "Note that Case-Fatality Ratio(%) = 100 * Number recorded deaths / Number cases."
   ]
  },
  {
   "cell_type": "code",
   "execution_count": 141,
   "metadata": {},
   "outputs": [
    {
     "data": {
      "text/plain": [
       "678     1.21\n",
       "679     1.06\n",
       "680     1.46\n",
       "681     1.40\n",
       "682     1.46\n",
       "        ... \n",
       "3951    1.09\n",
       "3952    0.13\n",
       "3953    0.68\n",
       "3955    1.72\n",
       "3956    1.17\n",
       "Name: Case_Fatality_Ratio, Length: 3213, dtype: float64"
      ]
     },
     "execution_count": 141,
     "metadata": {},
     "output_type": "execute_result"
    }
   ],
   "source": [
    "short = df12[\"Case_Fatality_Ratio\"].apply(lambda x: float(str(x)[:4]))\n",
    "short"
   ]
  },
  {
   "cell_type": "code",
   "execution_count": 157,
   "metadata": {},
   "outputs": [
    {
     "data": {
      "text/plain": [
       "678     1.21\n",
       "679     1.06\n",
       "680     1.46\n",
       "681     1.40\n",
       "682     1.46\n",
       "        ... \n",
       "3951    1.09\n",
       "3952    0.13\n",
       "3953    0.68\n",
       "3955    1.72\n",
       "3956    1.17\n",
       "Length: 3213, dtype: float64"
      ]
     },
     "execution_count": 157,
     "metadata": {},
     "output_type": "execute_result"
    }
   ],
   "source": [
    "cacl = (df12[\"Deaths\"] / df12[\"Confirmed\"]) * 100\n",
    "cacl.apply(lambda x: float(str(x)[:4])).dropna()"
   ]
  },
  {
   "cell_type": "code",
   "execution_count": 144,
   "metadata": {},
   "outputs": [
    {
     "data": {
      "text/plain": [
       "False    3114\n",
       "True       99\n",
       "Name: count, dtype: int64"
      ]
     },
     "execution_count": 144,
     "metadata": {},
     "output_type": "execute_result"
    }
   ],
   "source": [
    "(cacl == short).value_counts()"
   ]
  },
  {
   "cell_type": "code",
   "execution_count": 155,
   "metadata": {
    "id": "ybICVOXU0ezc"
   },
   "outputs": [
    {
     "data": {
      "text/html": [
       "<div>\n",
       "<style scoped>\n",
       "    .dataframe tbody tr th:only-of-type {\n",
       "        vertical-align: middle;\n",
       "    }\n",
       "\n",
       "    .dataframe tbody tr th {\n",
       "        vertical-align: top;\n",
       "    }\n",
       "\n",
       "    .dataframe thead th {\n",
       "        text-align: right;\n",
       "    }\n",
       "</style>\n",
       "<table border=\"1\" class=\"dataframe\">\n",
       "  <thead>\n",
       "    <tr style=\"text-align: right;\">\n",
       "      <th></th>\n",
       "      <th>Admin2</th>\n",
       "      <th>Province_State</th>\n",
       "      <th>Country_Region</th>\n",
       "      <th>Last_Update</th>\n",
       "      <th>Lat</th>\n",
       "      <th>Long</th>\n",
       "      <th>Confirmed</th>\n",
       "      <th>Deaths</th>\n",
       "      <th>Combined_Key</th>\n",
       "      <th>Incident_Rate</th>\n",
       "      <th>Case_Fatality_Ratio</th>\n",
       "      <th>State_recovered</th>\n",
       "      <th>Case_Fatality_Ratio_short</th>\n",
       "      <th>Case_Fatality_Ratio_calculated</th>\n",
       "    </tr>\n",
       "  </thead>\n",
       "  <tbody>\n",
       "    <tr>\n",
       "      <th>678</th>\n",
       "      <td>Autauga</td>\n",
       "      <td>Alabama</td>\n",
       "      <td>US</td>\n",
       "      <td>2023-01-02 04:20:57</td>\n",
       "      <td>32.539527</td>\n",
       "      <td>-86.644082</td>\n",
       "      <td>18961</td>\n",
       "      <td>230</td>\n",
       "      <td>Autauga, Alabama, US</td>\n",
       "      <td>33938.319999</td>\n",
       "      <td>1.2130</td>\n",
       "      <td>Alabama</td>\n",
       "      <td>1.21</td>\n",
       "      <td>1.21</td>\n",
       "    </tr>\n",
       "    <tr>\n",
       "      <th>679</th>\n",
       "      <td>Baldwin</td>\n",
       "      <td>Alabama</td>\n",
       "      <td>US</td>\n",
       "      <td>2023-01-02 04:20:57</td>\n",
       "      <td>30.727750</td>\n",
       "      <td>-87.722071</td>\n",
       "      <td>67496</td>\n",
       "      <td>719</td>\n",
       "      <td>Baldwin, Alabama, US</td>\n",
       "      <td>30235.537597</td>\n",
       "      <td>1.0652</td>\n",
       "      <td>Alabama</td>\n",
       "      <td>1.06</td>\n",
       "      <td>1.06</td>\n",
       "    </tr>\n",
       "    <tr>\n",
       "      <th>680</th>\n",
       "      <td>Barbour</td>\n",
       "      <td>Alabama</td>\n",
       "      <td>US</td>\n",
       "      <td>2023-01-02 04:20:57</td>\n",
       "      <td>31.868263</td>\n",
       "      <td>-85.387129</td>\n",
       "      <td>7027</td>\n",
       "      <td>103</td>\n",
       "      <td>Barbour, Alabama, US</td>\n",
       "      <td>28465.527019</td>\n",
       "      <td>1.4658</td>\n",
       "      <td>Alabama</td>\n",
       "      <td>1.46</td>\n",
       "      <td>1.46</td>\n",
       "    </tr>\n",
       "    <tr>\n",
       "      <th>681</th>\n",
       "      <td>Bibb</td>\n",
       "      <td>Alabama</td>\n",
       "      <td>US</td>\n",
       "      <td>2023-01-02 04:20:57</td>\n",
       "      <td>32.996421</td>\n",
       "      <td>-87.125115</td>\n",
       "      <td>7692</td>\n",
       "      <td>108</td>\n",
       "      <td>Bibb, Alabama, US</td>\n",
       "      <td>34348.486202</td>\n",
       "      <td>1.4041</td>\n",
       "      <td>Alabama</td>\n",
       "      <td>1.40</td>\n",
       "      <td>1.40</td>\n",
       "    </tr>\n",
       "    <tr>\n",
       "      <th>682</th>\n",
       "      <td>Blount</td>\n",
       "      <td>Alabama</td>\n",
       "      <td>US</td>\n",
       "      <td>2023-01-02 04:20:57</td>\n",
       "      <td>33.982109</td>\n",
       "      <td>-86.567906</td>\n",
       "      <td>17731</td>\n",
       "      <td>260</td>\n",
       "      <td>Blount, Alabama, US</td>\n",
       "      <td>30662.677688</td>\n",
       "      <td>1.4664</td>\n",
       "      <td>Alabama</td>\n",
       "      <td>1.46</td>\n",
       "      <td>1.46</td>\n",
       "    </tr>\n",
       "    <tr>\n",
       "      <th>...</th>\n",
       "      <td>...</td>\n",
       "      <td>...</td>\n",
       "      <td>...</td>\n",
       "      <td>...</td>\n",
       "      <td>...</td>\n",
       "      <td>...</td>\n",
       "      <td>...</td>\n",
       "      <td>...</td>\n",
       "      <td>...</td>\n",
       "      <td>...</td>\n",
       "      <td>...</td>\n",
       "      <td>...</td>\n",
       "      <td>...</td>\n",
       "      <td>...</td>\n",
       "    </tr>\n",
       "    <tr>\n",
       "      <th>3951</th>\n",
       "      <td>Sweetwater</td>\n",
       "      <td>Wyoming</td>\n",
       "      <td>US</td>\n",
       "      <td>2023-01-02 04:20:57</td>\n",
       "      <td>41.659439</td>\n",
       "      <td>-108.882788</td>\n",
       "      <td>12410</td>\n",
       "      <td>136</td>\n",
       "      <td>Sweetwater, Wyoming, US</td>\n",
       "      <td>29308.268191</td>\n",
       "      <td>1.0959</td>\n",
       "      <td>Wyoming</td>\n",
       "      <td>1.09</td>\n",
       "      <td>1.09</td>\n",
       "    </tr>\n",
       "    <tr>\n",
       "      <th>3952</th>\n",
       "      <td>Teton</td>\n",
       "      <td>Wyoming</td>\n",
       "      <td>US</td>\n",
       "      <td>2023-01-02 04:20:57</td>\n",
       "      <td>43.935225</td>\n",
       "      <td>-110.589080</td>\n",
       "      <td>12010</td>\n",
       "      <td>16</td>\n",
       "      <td>Teton, Wyoming, US</td>\n",
       "      <td>51184.793727</td>\n",
       "      <td>0.1332</td>\n",
       "      <td>Wyoming</td>\n",
       "      <td>0.13</td>\n",
       "      <td>0.13</td>\n",
       "    </tr>\n",
       "    <tr>\n",
       "      <th>3953</th>\n",
       "      <td>Uinta</td>\n",
       "      <td>Wyoming</td>\n",
       "      <td>US</td>\n",
       "      <td>2023-01-02 04:20:57</td>\n",
       "      <td>41.287818</td>\n",
       "      <td>-110.547578</td>\n",
       "      <td>6305</td>\n",
       "      <td>43</td>\n",
       "      <td>Uinta, Wyoming, US</td>\n",
       "      <td>31172.747948</td>\n",
       "      <td>0.6820</td>\n",
       "      <td>Wyoming</td>\n",
       "      <td>0.68</td>\n",
       "      <td>0.68</td>\n",
       "    </tr>\n",
       "    <tr>\n",
       "      <th>3955</th>\n",
       "      <td>Washakie</td>\n",
       "      <td>Wyoming</td>\n",
       "      <td>US</td>\n",
       "      <td>2023-01-02 04:20:57</td>\n",
       "      <td>43.904516</td>\n",
       "      <td>-107.680187</td>\n",
       "      <td>2722</td>\n",
       "      <td>47</td>\n",
       "      <td>Washakie, Wyoming, US</td>\n",
       "      <td>34875.080077</td>\n",
       "      <td>1.7267</td>\n",
       "      <td>Wyoming</td>\n",
       "      <td>1.72</td>\n",
       "      <td>1.72</td>\n",
       "    </tr>\n",
       "    <tr>\n",
       "      <th>3956</th>\n",
       "      <td>Weston</td>\n",
       "      <td>Wyoming</td>\n",
       "      <td>US</td>\n",
       "      <td>2023-01-02 04:20:57</td>\n",
       "      <td>43.839612</td>\n",
       "      <td>-104.567488</td>\n",
       "      <td>1880</td>\n",
       "      <td>22</td>\n",
       "      <td>Weston, Wyoming, US</td>\n",
       "      <td>27140.176122</td>\n",
       "      <td>1.1702</td>\n",
       "      <td>Wyoming</td>\n",
       "      <td>1.17</td>\n",
       "      <td>1.17</td>\n",
       "    </tr>\n",
       "  </tbody>\n",
       "</table>\n",
       "<p>3213 rows × 14 columns</p>\n",
       "</div>"
      ],
      "text/plain": [
       "          Admin2 Province_State Country_Region          Last_Update  \\\n",
       "678      Autauga        Alabama             US  2023-01-02 04:20:57   \n",
       "679      Baldwin        Alabama             US  2023-01-02 04:20:57   \n",
       "680      Barbour        Alabama             US  2023-01-02 04:20:57   \n",
       "681         Bibb        Alabama             US  2023-01-02 04:20:57   \n",
       "682       Blount        Alabama             US  2023-01-02 04:20:57   \n",
       "...          ...            ...            ...                  ...   \n",
       "3951  Sweetwater        Wyoming             US  2023-01-02 04:20:57   \n",
       "3952       Teton        Wyoming             US  2023-01-02 04:20:57   \n",
       "3953       Uinta        Wyoming             US  2023-01-02 04:20:57   \n",
       "3955    Washakie        Wyoming             US  2023-01-02 04:20:57   \n",
       "3956      Weston        Wyoming             US  2023-01-02 04:20:57   \n",
       "\n",
       "            Lat        Long  Confirmed  Deaths             Combined_Key  \\\n",
       "678   32.539527  -86.644082      18961     230     Autauga, Alabama, US   \n",
       "679   30.727750  -87.722071      67496     719     Baldwin, Alabama, US   \n",
       "680   31.868263  -85.387129       7027     103     Barbour, Alabama, US   \n",
       "681   32.996421  -87.125115       7692     108        Bibb, Alabama, US   \n",
       "682   33.982109  -86.567906      17731     260      Blount, Alabama, US   \n",
       "...         ...         ...        ...     ...                      ...   \n",
       "3951  41.659439 -108.882788      12410     136  Sweetwater, Wyoming, US   \n",
       "3952  43.935225 -110.589080      12010      16       Teton, Wyoming, US   \n",
       "3953  41.287818 -110.547578       6305      43       Uinta, Wyoming, US   \n",
       "3955  43.904516 -107.680187       2722      47    Washakie, Wyoming, US   \n",
       "3956  43.839612 -104.567488       1880      22      Weston, Wyoming, US   \n",
       "\n",
       "      Incident_Rate  Case_Fatality_Ratio State_recovered  \\\n",
       "678    33938.319999               1.2130         Alabama   \n",
       "679    30235.537597               1.0652         Alabama   \n",
       "680    28465.527019               1.4658         Alabama   \n",
       "681    34348.486202               1.4041         Alabama   \n",
       "682    30662.677688               1.4664         Alabama   \n",
       "...             ...                  ...             ...   \n",
       "3951   29308.268191               1.0959         Wyoming   \n",
       "3952   51184.793727               0.1332         Wyoming   \n",
       "3953   31172.747948               0.6820         Wyoming   \n",
       "3955   34875.080077               1.7267         Wyoming   \n",
       "3956   27140.176122               1.1702         Wyoming   \n",
       "\n",
       "      Case_Fatality_Ratio_short  Case_Fatality_Ratio_calculated  \n",
       "678                        1.21                            1.21  \n",
       "679                        1.06                            1.06  \n",
       "680                        1.46                            1.46  \n",
       "681                        1.40                            1.40  \n",
       "682                        1.46                            1.46  \n",
       "...                         ...                             ...  \n",
       "3951                       1.09                            1.09  \n",
       "3952                       0.13                            0.13  \n",
       "3953                       0.68                            0.68  \n",
       "3955                       1.72                            1.72  \n",
       "3956                       1.17                            1.17  \n",
       "\n",
       "[3213 rows x 14 columns]"
      ]
     },
     "execution_count": 155,
     "metadata": {},
     "output_type": "execute_result"
    }
   ],
   "source": [
    "### Q10\n",
    "df1['Case_Fatality_Ratio_short'] = df1.Case_Fatality_Ratio.astype(str).str[:4].astype(float)\n",
    "df1['Case_Fatality_Ratio_calculated'] = (100 * df1.Deaths/df.Confirmed).astype(str).str[:4].astype(float)\n",
    "df1"
   ]
  },
  {
   "cell_type": "code",
   "execution_count": 147,
   "metadata": {},
   "outputs": [
    {
     "data": {
      "text/plain": [
       "True    3213\n",
       "Name: count, dtype: int64"
      ]
     },
     "execution_count": 147,
     "metadata": {},
     "output_type": "execute_result"
    }
   ],
   "source": [
    "(short == df1['Case_Fatality_Ratio_short']).value_counts()"
   ]
  },
  {
   "cell_type": "code",
   "execution_count": 158,
   "metadata": {},
   "outputs": [
    {
     "data": {
      "text/plain": [
       "False    3114\n",
       "True       99\n",
       "Name: count, dtype: int64"
      ]
     },
     "execution_count": 158,
     "metadata": {},
     "output_type": "execute_result"
    }
   ],
   "source": [
    "(cacl == df1['Case_Fatality_Ratio_calculated']).value_counts()"
   ]
  },
  {
   "cell_type": "markdown",
   "metadata": {
    "id": "nHAGowrJ0ezd"
   },
   "source": [
    "**Question 11 (2 points)**\n",
    "\n",
    "Find and report the number of samples when the ```Case_Fatality_Ratio_short``` is not equal to```Case_Fatality_Ratio_calculated``` and save them into a new dataframe. Remember to drop the missing values appeared in these two columns, before find the subsample.\n",
    "\n",
    "**In the following questions, use the new dataframe.**"
   ]
  },
  {
   "cell_type": "code",
   "execution_count": 114,
   "metadata": {
    "id": "eGpnJBsZ0ezd"
   },
   "outputs": [],
   "source": [
    "### Q11\n",
    "df2 = df1[ df1.Case_Fatality_Ratio_short != df1.Case_Fatality_Ratio_calculated].dropna(subset = ['Case_Fatality_Ratio_short','Case_Fatality_Ratio_calculated' ])"
   ]
  },
  {
   "cell_type": "code",
   "execution_count": 115,
   "metadata": {},
   "outputs": [
    {
     "data": {
      "text/plain": [
       "(209, 14)"
      ]
     },
     "execution_count": 115,
     "metadata": {},
     "output_type": "execute_result"
    }
   ],
   "source": [
    "df2.shape"
   ]
  },
  {
   "cell_type": "markdown",
   "metadata": {},
   "source": [
    "**Grading: If students did not use the updated DataFrame in Q12 and Q13, they may still arrive at the correct value in the \"Reject\" category. In such cases, partial credit will be awarded; this will incur a 2-points reduction.**"
   ]
  },
  {
   "attachments": {
    "image.png": {
     "image/png": "[encoded data removed]"
    }
   },
   "cell_type": "markdown",
   "metadata": {
    "id": "RSZHFUkM0ezd"
   },
   "source": [
    "**Question 12 (4 points)**\n",
    "\n",
    "We define a new concept, acceptable percentage error, to measure the magnitude of error. It is calculated as the absolute percentage difference between the ```Case_Fatality_Ratio_calculated``` and ```Case_Fatality_Ratio_short```, using the formula:\n",
    "![image.png](attachment:image.png)\n",
    "\n",
    "Compute the acceptable percentage error (rounded to three decimal places) and add it as a new column to the dataframe.\n",
    "\n",
    "Group this continuous acceptable percentage error into the following discrete bins: [0, 0.5], (0.5, 1], (1, 10], and (10, 50]. Note that 0 is included in the first bin.\n",
    "\n",
    "Use the value_counts() method to check the distribution of samples across these bins.\n",
    "\n",
    "Compute this acceptable percentage error, add it as a new column of the data frame, and group this continuous acceptable percentage error into discrete bins ([0,0.5], (0.5,1], (1,10], (10,50]) to generate a new categorical object. \n"
   ]
  },
  {
   "cell_type": "code",
   "execution_count": 116,
   "metadata": {},
   "outputs": [
    {
     "data": {
      "text/html": [
       "<div>\n",
       "<style scoped>\n",
       "    .dataframe tbody tr th:only-of-type {\n",
       "        vertical-align: middle;\n",
       "    }\n",
       "\n",
       "    .dataframe tbody tr th {\n",
       "        vertical-align: top;\n",
       "    }\n",
       "\n",
       "    .dataframe thead th {\n",
       "        text-align: right;\n",
       "    }\n",
       "</style>\n",
       "<table border=\"1\" class=\"dataframe\">\n",
       "  <thead>\n",
       "    <tr style=\"text-align: right;\">\n",
       "      <th></th>\n",
       "      <th>Admin2</th>\n",
       "      <th>Province_State</th>\n",
       "      <th>Country_Region</th>\n",
       "      <th>Last_Update</th>\n",
       "      <th>Lat</th>\n",
       "      <th>Long</th>\n",
       "      <th>Confirmed</th>\n",
       "      <th>Deaths</th>\n",
       "      <th>Combined_Key</th>\n",
       "      <th>Incident_Rate</th>\n",
       "      <th>Case_Fatality_Ratio</th>\n",
       "      <th>State_recovered</th>\n",
       "      <th>Case_Fatality_Ratio_short</th>\n",
       "      <th>Case_Fatality_Ratio_calculated</th>\n",
       "      <th>acceptable_percentage_error</th>\n",
       "    </tr>\n",
       "  </thead>\n",
       "  <tbody>\n",
       "    <tr>\n",
       "      <th>743</th>\n",
       "      <td>Walker</td>\n",
       "      <td>Alabama</td>\n",
       "      <td>US</td>\n",
       "      <td>2023-01-02 04:20:57</td>\n",
       "      <td>33.802705</td>\n",
       "      <td>-87.300272</td>\n",
       "      <td>22885</td>\n",
       "      <td>476</td>\n",
       "      <td>Walker, Alabama, US</td>\n",
       "      <td>36027.455487</td>\n",
       "      <td>2.0800</td>\n",
       "      <td>Alabama</td>\n",
       "      <td>2.08</td>\n",
       "      <td>2.07</td>\n",
       "      <td>0.483</td>\n",
       "    </tr>\n",
       "    <tr>\n",
       "      <th>772</th>\n",
       "      <td>Southeast Fairbanks</td>\n",
       "      <td>Alaska</td>\n",
       "      <td>US</td>\n",
       "      <td>2023-01-02 04:20:57</td>\n",
       "      <td>63.876921</td>\n",
       "      <td>-143.212764</td>\n",
       "      <td>2442</td>\n",
       "      <td>21</td>\n",
       "      <td>Southeast Fairbanks, Alaska, US</td>\n",
       "      <td>35427.245031</td>\n",
       "      <td>0.8600</td>\n",
       "      <td>Alaska</td>\n",
       "      <td>0.86</td>\n",
       "      <td>0.85</td>\n",
       "      <td>1.176</td>\n",
       "    </tr>\n",
       "    <tr>\n",
       "      <th>875</th>\n",
       "      <td>Butte</td>\n",
       "      <td>California</td>\n",
       "      <td>US</td>\n",
       "      <td>2023-01-02 04:20:57</td>\n",
       "      <td>39.667278</td>\n",
       "      <td>-121.600525</td>\n",
       "      <td>51007</td>\n",
       "      <td>474</td>\n",
       "      <td>Butte, California, US</td>\n",
       "      <td>23183.050012</td>\n",
       "      <td>0.9328</td>\n",
       "      <td>California</td>\n",
       "      <td>0.93</td>\n",
       "      <td>0.92</td>\n",
       "      <td>1.087</td>\n",
       "    </tr>\n",
       "    <tr>\n",
       "      <th>896</th>\n",
       "      <td>Modoc</td>\n",
       "      <td>California</td>\n",
       "      <td>US</td>\n",
       "      <td>2023-01-02 04:20:57</td>\n",
       "      <td>41.589656</td>\n",
       "      <td>-120.724482</td>\n",
       "      <td>1295</td>\n",
       "      <td>11</td>\n",
       "      <td>Modoc, California, US</td>\n",
       "      <td>14636.353354</td>\n",
       "      <td>0.8501</td>\n",
       "      <td>California</td>\n",
       "      <td>0.85</td>\n",
       "      <td>0.84</td>\n",
       "      <td>1.190</td>\n",
       "    </tr>\n",
       "    <tr>\n",
       "      <th>900</th>\n",
       "      <td>Nevada</td>\n",
       "      <td>California</td>\n",
       "      <td>US</td>\n",
       "      <td>2023-01-02 04:20:57</td>\n",
       "      <td>39.303948</td>\n",
       "      <td>-120.762728</td>\n",
       "      <td>22004</td>\n",
       "      <td>132</td>\n",
       "      <td>Nevada, California, US</td>\n",
       "      <td>22034.985715</td>\n",
       "      <td>0.6005</td>\n",
       "      <td>California</td>\n",
       "      <td>0.60</td>\n",
       "      <td>0.59</td>\n",
       "      <td>1.695</td>\n",
       "    </tr>\n",
       "    <tr>\n",
       "      <th>...</th>\n",
       "      <td>...</td>\n",
       "      <td>...</td>\n",
       "      <td>...</td>\n",
       "      <td>...</td>\n",
       "      <td>...</td>\n",
       "      <td>...</td>\n",
       "      <td>...</td>\n",
       "      <td>...</td>\n",
       "      <td>...</td>\n",
       "      <td>...</td>\n",
       "      <td>...</td>\n",
       "      <td>...</td>\n",
       "      <td>...</td>\n",
       "      <td>...</td>\n",
       "      <td>...</td>\n",
       "    </tr>\n",
       "    <tr>\n",
       "      <th>3343</th>\n",
       "      <td>Williamson</td>\n",
       "      <td>Tennessee</td>\n",
       "      <td>US</td>\n",
       "      <td>2023-01-02 04:20:57</td>\n",
       "      <td>35.890992</td>\n",
       "      <td>-86.892819</td>\n",
       "      <td>74468</td>\n",
       "      <td>438</td>\n",
       "      <td>Williamson, Tennessee, US</td>\n",
       "      <td>31090.716910</td>\n",
       "      <td>0.5909</td>\n",
       "      <td>Tennessee</td>\n",
       "      <td>0.59</td>\n",
       "      <td>0.58</td>\n",
       "      <td>1.724</td>\n",
       "    </tr>\n",
       "    <tr>\n",
       "      <th>3507</th>\n",
       "      <td>Medina</td>\n",
       "      <td>Texas</td>\n",
       "      <td>US</td>\n",
       "      <td>2023-01-02 04:20:57</td>\n",
       "      <td>29.355730</td>\n",
       "      <td>-99.110303</td>\n",
       "      <td>11932</td>\n",
       "      <td>210</td>\n",
       "      <td>Medina, Texas, US</td>\n",
       "      <td>23131.203474</td>\n",
       "      <td>1.7600</td>\n",
       "      <td>Texas</td>\n",
       "      <td>1.76</td>\n",
       "      <td>1.75</td>\n",
       "      <td>0.571</td>\n",
       "    </tr>\n",
       "    <tr>\n",
       "      <th>3522</th>\n",
       "      <td>Nueces</td>\n",
       "      <td>Texas</td>\n",
       "      <td>US</td>\n",
       "      <td>2023-01-02 04:20:57</td>\n",
       "      <td>27.736286</td>\n",
       "      <td>-97.543329</td>\n",
       "      <td>100753</td>\n",
       "      <td>1336</td>\n",
       "      <td>Nueces, Texas, US</td>\n",
       "      <td>32533.798517</td>\n",
       "      <td>1.3413</td>\n",
       "      <td>Texas</td>\n",
       "      <td>1.34</td>\n",
       "      <td>1.32</td>\n",
       "      <td>1.515</td>\n",
       "    </tr>\n",
       "    <tr>\n",
       "      <th>3528</th>\n",
       "      <td>Parker</td>\n",
       "      <td>Texas</td>\n",
       "      <td>US</td>\n",
       "      <td>2023-01-02 04:20:57</td>\n",
       "      <td>32.777572</td>\n",
       "      <td>-97.805006</td>\n",
       "      <td>39587</td>\n",
       "      <td>479</td>\n",
       "      <td>Parker, Texas, US</td>\n",
       "      <td>27706.854799</td>\n",
       "      <td>1.2100</td>\n",
       "      <td>Texas</td>\n",
       "      <td>1.21</td>\n",
       "      <td>1.20</td>\n",
       "      <td>0.833</td>\n",
       "    </tr>\n",
       "    <tr>\n",
       "      <th>3532</th>\n",
       "      <td>Potter</td>\n",
       "      <td>Texas</td>\n",
       "      <td>US</td>\n",
       "      <td>2023-01-02 04:20:57</td>\n",
       "      <td>35.401338</td>\n",
       "      <td>-101.893964</td>\n",
       "      <td>42137</td>\n",
       "      <td>778</td>\n",
       "      <td>Potter, Texas, US</td>\n",
       "      <td>35291.061619</td>\n",
       "      <td>1.8269</td>\n",
       "      <td>Texas</td>\n",
       "      <td>1.82</td>\n",
       "      <td>1.84</td>\n",
       "      <td>1.087</td>\n",
       "    </tr>\n",
       "  </tbody>\n",
       "</table>\n",
       "<p>209 rows × 15 columns</p>\n",
       "</div>"
      ],
      "text/plain": [
       "                   Admin2 Province_State Country_Region          Last_Update  \\\n",
       "743                Walker        Alabama             US  2023-01-02 04:20:57   \n",
       "772   Southeast Fairbanks         Alaska             US  2023-01-02 04:20:57   \n",
       "875                 Butte     California             US  2023-01-02 04:20:57   \n",
       "896                 Modoc     California             US  2023-01-02 04:20:57   \n",
       "900                Nevada     California             US  2023-01-02 04:20:57   \n",
       "...                   ...            ...            ...                  ...   \n",
       "3343           Williamson      Tennessee             US  2023-01-02 04:20:57   \n",
       "3507               Medina          Texas             US  2023-01-02 04:20:57   \n",
       "3522               Nueces          Texas             US  2023-01-02 04:20:57   \n",
       "3528               Parker          Texas             US  2023-01-02 04:20:57   \n",
       "3532               Potter          Texas             US  2023-01-02 04:20:57   \n",
       "\n",
       "            Lat        Long  Confirmed  Deaths  \\\n",
       "743   33.802705  -87.300272      22885     476   \n",
       "772   63.876921 -143.212764       2442      21   \n",
       "875   39.667278 -121.600525      51007     474   \n",
       "896   41.589656 -120.724482       1295      11   \n",
       "900   39.303948 -120.762728      22004     132   \n",
       "...         ...         ...        ...     ...   \n",
       "3343  35.890992  -86.892819      74468     438   \n",
       "3507  29.355730  -99.110303      11932     210   \n",
       "3522  27.736286  -97.543329     100753    1336   \n",
       "3528  32.777572  -97.805006      39587     479   \n",
       "3532  35.401338 -101.893964      42137     778   \n",
       "\n",
       "                         Combined_Key  Incident_Rate  Case_Fatality_Ratio  \\\n",
       "743               Walker, Alabama, US   36027.455487               2.0800   \n",
       "772   Southeast Fairbanks, Alaska, US   35427.245031               0.8600   \n",
       "875             Butte, California, US   23183.050012               0.9328   \n",
       "896             Modoc, California, US   14636.353354               0.8501   \n",
       "900            Nevada, California, US   22034.985715               0.6005   \n",
       "...                               ...            ...                  ...   \n",
       "3343        Williamson, Tennessee, US   31090.716910               0.5909   \n",
       "3507                Medina, Texas, US   23131.203474               1.7600   \n",
       "3522                Nueces, Texas, US   32533.798517               1.3413   \n",
       "3528                Parker, Texas, US   27706.854799               1.2100   \n",
       "3532                Potter, Texas, US   35291.061619               1.8269   \n",
       "\n",
       "     State_recovered  Case_Fatality_Ratio_short  \\\n",
       "743          Alabama                       2.08   \n",
       "772           Alaska                       0.86   \n",
       "875       California                       0.93   \n",
       "896       California                       0.85   \n",
       "900       California                       0.60   \n",
       "...              ...                        ...   \n",
       "3343       Tennessee                       0.59   \n",
       "3507           Texas                       1.76   \n",
       "3522           Texas                       1.34   \n",
       "3528           Texas                       1.21   \n",
       "3532           Texas                       1.82   \n",
       "\n",
       "      Case_Fatality_Ratio_calculated  acceptable_percentage_error  \n",
       "743                             2.07                        0.483  \n",
       "772                             0.85                        1.176  \n",
       "875                             0.92                        1.087  \n",
       "896                             0.84                        1.190  \n",
       "900                             0.59                        1.695  \n",
       "...                              ...                          ...  \n",
       "3343                            0.58                        1.724  \n",
       "3507                            1.75                        0.571  \n",
       "3522                            1.32                        1.515  \n",
       "3528                            1.20                        0.833  \n",
       "3532                            1.84                        1.087  \n",
       "\n",
       "[209 rows x 15 columns]"
      ]
     },
     "execution_count": 116,
     "metadata": {},
     "output_type": "execute_result"
    }
   ],
   "source": [
    "### Q12\n",
    "df2['acceptable_percentage_error'] = 100 * np.abs((df2.Case_Fatality_Ratio_short - df2.Case_Fatality_Ratio_calculated)/ df2.Case_Fatality_Ratio_calculated)\n",
    "df2['acceptable_percentage_error'] = df2['acceptable_percentage_error'].round(3)\n",
    "df2"
   ]
  },
  {
   "cell_type": "code",
   "execution_count": 117,
   "metadata": {},
   "outputs": [
    {
     "data": {
      "text/plain": [
       "count    209.000000\n",
       "mean       1.692096\n",
       "std        3.735055\n",
       "min        0.433000\n",
       "25%        0.662000\n",
       "50%        0.820000\n",
       "75%        1.176000\n",
       "max       29.565000\n",
       "Name: acceptable_percentage_error, dtype: float64"
      ]
     },
     "execution_count": 117,
     "metadata": {},
     "output_type": "execute_result"
    }
   ],
   "source": [
    "df2['acceptable_percentage_error'].describe()"
   ]
  },
  {
   "cell_type": "code",
   "execution_count": 161,
   "metadata": {},
   "outputs": [
    {
     "data": {
      "text/plain": [
       "acceptable_percentage_error_bins\n",
       "(0.5, 1]    131\n",
       "(1, 10]      62\n",
       "[0, 0.5]     10\n",
       "(10, 50]      6\n",
       "Name: count, dtype: int64"
      ]
     },
     "execution_count": 161,
     "metadata": {},
     "output_type": "execute_result"
    }
   ],
   "source": [
    "bins = [0, 0.5, 1, 10, 50]\n",
    "labels = ('[0, 0.5]', '(0.5, 1]', '(1, 10]', '(10, 50]')\n",
    "df2['acceptable_percentage_error_bins'] = pd.cut(df2['acceptable_percentage_error'], bins=bins, labels=labels, include_lowest=True)\n",
    "\n",
    "df2['acceptable_percentage_error_bins'].value_counts()"
   ]
  },
  {
   "cell_type": "code",
   "execution_count": 119,
   "metadata": {},
   "outputs": [
    {
     "data": {
      "text/html": [
       "<div>\n",
       "<style scoped>\n",
       "    .dataframe tbody tr th:only-of-type {\n",
       "        vertical-align: middle;\n",
       "    }\n",
       "\n",
       "    .dataframe tbody tr th {\n",
       "        vertical-align: top;\n",
       "    }\n",
       "\n",
       "    .dataframe thead th {\n",
       "        text-align: right;\n",
       "    }\n",
       "</style>\n",
       "<table border=\"1\" class=\"dataframe\">\n",
       "  <thead>\n",
       "    <tr style=\"text-align: right;\">\n",
       "      <th></th>\n",
       "      <th>Admin2</th>\n",
       "      <th>Province_State</th>\n",
       "      <th>Country_Region</th>\n",
       "      <th>Last_Update</th>\n",
       "      <th>Lat</th>\n",
       "      <th>Long</th>\n",
       "      <th>Confirmed</th>\n",
       "      <th>Deaths</th>\n",
       "      <th>Combined_Key</th>\n",
       "      <th>Incident_Rate</th>\n",
       "      <th>Case_Fatality_Ratio</th>\n",
       "      <th>State_recovered</th>\n",
       "      <th>Case_Fatality_Ratio_short</th>\n",
       "      <th>Case_Fatality_Ratio_calculated</th>\n",
       "      <th>acceptable_percentage_error</th>\n",
       "      <th>acceptable_percentage_error_bins</th>\n",
       "    </tr>\n",
       "  </thead>\n",
       "  <tbody>\n",
       "    <tr>\n",
       "      <th>743</th>\n",
       "      <td>Walker</td>\n",
       "      <td>Alabama</td>\n",
       "      <td>US</td>\n",
       "      <td>2023-01-02 04:20:57</td>\n",
       "      <td>33.802705</td>\n",
       "      <td>-87.300272</td>\n",
       "      <td>22885</td>\n",
       "      <td>476</td>\n",
       "      <td>Walker, Alabama, US</td>\n",
       "      <td>36027.455487</td>\n",
       "      <td>2.0800</td>\n",
       "      <td>Alabama</td>\n",
       "      <td>2.08</td>\n",
       "      <td>2.07</td>\n",
       "      <td>0.483</td>\n",
       "      <td>[0, 0.5]</td>\n",
       "    </tr>\n",
       "    <tr>\n",
       "      <th>772</th>\n",
       "      <td>Southeast Fairbanks</td>\n",
       "      <td>Alaska</td>\n",
       "      <td>US</td>\n",
       "      <td>2023-01-02 04:20:57</td>\n",
       "      <td>63.876921</td>\n",
       "      <td>-143.212764</td>\n",
       "      <td>2442</td>\n",
       "      <td>21</td>\n",
       "      <td>Southeast Fairbanks, Alaska, US</td>\n",
       "      <td>35427.245031</td>\n",
       "      <td>0.8600</td>\n",
       "      <td>Alaska</td>\n",
       "      <td>0.86</td>\n",
       "      <td>0.85</td>\n",
       "      <td>1.176</td>\n",
       "      <td>(1, 10]</td>\n",
       "    </tr>\n",
       "    <tr>\n",
       "      <th>875</th>\n",
       "      <td>Butte</td>\n",
       "      <td>California</td>\n",
       "      <td>US</td>\n",
       "      <td>2023-01-02 04:20:57</td>\n",
       "      <td>39.667278</td>\n",
       "      <td>-121.600525</td>\n",
       "      <td>51007</td>\n",
       "      <td>474</td>\n",
       "      <td>Butte, California, US</td>\n",
       "      <td>23183.050012</td>\n",
       "      <td>0.9328</td>\n",
       "      <td>California</td>\n",
       "      <td>0.93</td>\n",
       "      <td>0.92</td>\n",
       "      <td>1.087</td>\n",
       "      <td>(1, 10]</td>\n",
       "    </tr>\n",
       "    <tr>\n",
       "      <th>896</th>\n",
       "      <td>Modoc</td>\n",
       "      <td>California</td>\n",
       "      <td>US</td>\n",
       "      <td>2023-01-02 04:20:57</td>\n",
       "      <td>41.589656</td>\n",
       "      <td>-120.724482</td>\n",
       "      <td>1295</td>\n",
       "      <td>11</td>\n",
       "      <td>Modoc, California, US</td>\n",
       "      <td>14636.353354</td>\n",
       "      <td>0.8501</td>\n",
       "      <td>California</td>\n",
       "      <td>0.85</td>\n",
       "      <td>0.84</td>\n",
       "      <td>1.190</td>\n",
       "      <td>(1, 10]</td>\n",
       "    </tr>\n",
       "    <tr>\n",
       "      <th>900</th>\n",
       "      <td>Nevada</td>\n",
       "      <td>California</td>\n",
       "      <td>US</td>\n",
       "      <td>2023-01-02 04:20:57</td>\n",
       "      <td>39.303948</td>\n",
       "      <td>-120.762728</td>\n",
       "      <td>22004</td>\n",
       "      <td>132</td>\n",
       "      <td>Nevada, California, US</td>\n",
       "      <td>22034.985715</td>\n",
       "      <td>0.6005</td>\n",
       "      <td>California</td>\n",
       "      <td>0.60</td>\n",
       "      <td>0.59</td>\n",
       "      <td>1.695</td>\n",
       "      <td>(1, 10]</td>\n",
       "    </tr>\n",
       "    <tr>\n",
       "      <th>...</th>\n",
       "      <td>...</td>\n",
       "      <td>...</td>\n",
       "      <td>...</td>\n",
       "      <td>...</td>\n",
       "      <td>...</td>\n",
       "      <td>...</td>\n",
       "      <td>...</td>\n",
       "      <td>...</td>\n",
       "      <td>...</td>\n",
       "      <td>...</td>\n",
       "      <td>...</td>\n",
       "      <td>...</td>\n",
       "      <td>...</td>\n",
       "      <td>...</td>\n",
       "      <td>...</td>\n",
       "      <td>...</td>\n",
       "    </tr>\n",
       "    <tr>\n",
       "      <th>3343</th>\n",
       "      <td>Williamson</td>\n",
       "      <td>Tennessee</td>\n",
       "      <td>US</td>\n",
       "      <td>2023-01-02 04:20:57</td>\n",
       "      <td>35.890992</td>\n",
       "      <td>-86.892819</td>\n",
       "      <td>74468</td>\n",
       "      <td>438</td>\n",
       "      <td>Williamson, Tennessee, US</td>\n",
       "      <td>31090.716910</td>\n",
       "      <td>0.5909</td>\n",
       "      <td>Tennessee</td>\n",
       "      <td>0.59</td>\n",
       "      <td>0.58</td>\n",
       "      <td>1.724</td>\n",
       "      <td>(1, 10]</td>\n",
       "    </tr>\n",
       "    <tr>\n",
       "      <th>3507</th>\n",
       "      <td>Medina</td>\n",
       "      <td>Texas</td>\n",
       "      <td>US</td>\n",
       "      <td>2023-01-02 04:20:57</td>\n",
       "      <td>29.355730</td>\n",
       "      <td>-99.110303</td>\n",
       "      <td>11932</td>\n",
       "      <td>210</td>\n",
       "      <td>Medina, Texas, US</td>\n",
       "      <td>23131.203474</td>\n",
       "      <td>1.7600</td>\n",
       "      <td>Texas</td>\n",
       "      <td>1.76</td>\n",
       "      <td>1.75</td>\n",
       "      <td>0.571</td>\n",
       "      <td>(0.5, 1]</td>\n",
       "    </tr>\n",
       "    <tr>\n",
       "      <th>3522</th>\n",
       "      <td>Nueces</td>\n",
       "      <td>Texas</td>\n",
       "      <td>US</td>\n",
       "      <td>2023-01-02 04:20:57</td>\n",
       "      <td>27.736286</td>\n",
       "      <td>-97.543329</td>\n",
       "      <td>100753</td>\n",
       "      <td>1336</td>\n",
       "      <td>Nueces, Texas, US</td>\n",
       "      <td>32533.798517</td>\n",
       "      <td>1.3413</td>\n",
       "      <td>Texas</td>\n",
       "      <td>1.34</td>\n",
       "      <td>1.32</td>\n",
       "      <td>1.515</td>\n",
       "      <td>(1, 10]</td>\n",
       "    </tr>\n",
       "    <tr>\n",
       "      <th>3528</th>\n",
       "      <td>Parker</td>\n",
       "      <td>Texas</td>\n",
       "      <td>US</td>\n",
       "      <td>2023-01-02 04:20:57</td>\n",
       "      <td>32.777572</td>\n",
       "      <td>-97.805006</td>\n",
       "      <td>39587</td>\n",
       "      <td>479</td>\n",
       "      <td>Parker, Texas, US</td>\n",
       "      <td>27706.854799</td>\n",
       "      <td>1.2100</td>\n",
       "      <td>Texas</td>\n",
       "      <td>1.21</td>\n",
       "      <td>1.20</td>\n",
       "      <td>0.833</td>\n",
       "      <td>(0.5, 1]</td>\n",
       "    </tr>\n",
       "    <tr>\n",
       "      <th>3532</th>\n",
       "      <td>Potter</td>\n",
       "      <td>Texas</td>\n",
       "      <td>US</td>\n",
       "      <td>2023-01-02 04:20:57</td>\n",
       "      <td>35.401338</td>\n",
       "      <td>-101.893964</td>\n",
       "      <td>42137</td>\n",
       "      <td>778</td>\n",
       "      <td>Potter, Texas, US</td>\n",
       "      <td>35291.061619</td>\n",
       "      <td>1.8269</td>\n",
       "      <td>Texas</td>\n",
       "      <td>1.82</td>\n",
       "      <td>1.84</td>\n",
       "      <td>1.087</td>\n",
       "      <td>(1, 10]</td>\n",
       "    </tr>\n",
       "  </tbody>\n",
       "</table>\n",
       "<p>209 rows × 16 columns</p>\n",
       "</div>"
      ],
      "text/plain": [
       "                   Admin2 Province_State Country_Region          Last_Update  \\\n",
       "743                Walker        Alabama             US  2023-01-02 04:20:57   \n",
       "772   Southeast Fairbanks         Alaska             US  2023-01-02 04:20:57   \n",
       "875                 Butte     California             US  2023-01-02 04:20:57   \n",
       "896                 Modoc     California             US  2023-01-02 04:20:57   \n",
       "900                Nevada     California             US  2023-01-02 04:20:57   \n",
       "...                   ...            ...            ...                  ...   \n",
       "3343           Williamson      Tennessee             US  2023-01-02 04:20:57   \n",
       "3507               Medina          Texas             US  2023-01-02 04:20:57   \n",
       "3522               Nueces          Texas             US  2023-01-02 04:20:57   \n",
       "3528               Parker          Texas             US  2023-01-02 04:20:57   \n",
       "3532               Potter          Texas             US  2023-01-02 04:20:57   \n",
       "\n",
       "            Lat        Long  Confirmed  Deaths  \\\n",
       "743   33.802705  -87.300272      22885     476   \n",
       "772   63.876921 -143.212764       2442      21   \n",
       "875   39.667278 -121.600525      51007     474   \n",
       "896   41.589656 -120.724482       1295      11   \n",
       "900   39.303948 -120.762728      22004     132   \n",
       "...         ...         ...        ...     ...   \n",
       "3343  35.890992  -86.892819      74468     438   \n",
       "3507  29.355730  -99.110303      11932     210   \n",
       "3522  27.736286  -97.543329     100753    1336   \n",
       "3528  32.777572  -97.805006      39587     479   \n",
       "3532  35.401338 -101.893964      42137     778   \n",
       "\n",
       "                         Combined_Key  Incident_Rate  Case_Fatality_Ratio  \\\n",
       "743               Walker, Alabama, US   36027.455487               2.0800   \n",
       "772   Southeast Fairbanks, Alaska, US   35427.245031               0.8600   \n",
       "875             Butte, California, US   23183.050012               0.9328   \n",
       "896             Modoc, California, US   14636.353354               0.8501   \n",
       "900            Nevada, California, US   22034.985715               0.6005   \n",
       "...                               ...            ...                  ...   \n",
       "3343        Williamson, Tennessee, US   31090.716910               0.5909   \n",
       "3507                Medina, Texas, US   23131.203474               1.7600   \n",
       "3522                Nueces, Texas, US   32533.798517               1.3413   \n",
       "3528                Parker, Texas, US   27706.854799               1.2100   \n",
       "3532                Potter, Texas, US   35291.061619               1.8269   \n",
       "\n",
       "     State_recovered  Case_Fatality_Ratio_short  \\\n",
       "743          Alabama                       2.08   \n",
       "772           Alaska                       0.86   \n",
       "875       California                       0.93   \n",
       "896       California                       0.85   \n",
       "900       California                       0.60   \n",
       "...              ...                        ...   \n",
       "3343       Tennessee                       0.59   \n",
       "3507           Texas                       1.76   \n",
       "3522           Texas                       1.34   \n",
       "3528           Texas                       1.21   \n",
       "3532           Texas                       1.82   \n",
       "\n",
       "      Case_Fatality_Ratio_calculated  acceptable_percentage_error  \\\n",
       "743                             2.07                        0.483   \n",
       "772                             0.85                        1.176   \n",
       "875                             0.92                        1.087   \n",
       "896                             0.84                        1.190   \n",
       "900                             0.59                        1.695   \n",
       "...                              ...                          ...   \n",
       "3343                            0.58                        1.724   \n",
       "3507                            1.75                        0.571   \n",
       "3522                            1.32                        1.515   \n",
       "3528                            1.20                        0.833   \n",
       "3532                            1.84                        1.087   \n",
       "\n",
       "     acceptable_percentage_error_bins  \n",
       "743                          [0, 0.5]  \n",
       "772                           (1, 10]  \n",
       "875                           (1, 10]  \n",
       "896                           (1, 10]  \n",
       "900                           (1, 10]  \n",
       "...                               ...  \n",
       "3343                          (1, 10]  \n",
       "3507                         (0.5, 1]  \n",
       "3522                          (1, 10]  \n",
       "3528                         (0.5, 1]  \n",
       "3532                          (1, 10]  \n",
       "\n",
       "[209 rows x 16 columns]"
      ]
     },
     "execution_count": 119,
     "metadata": {},
     "output_type": "execute_result"
    }
   ],
   "source": [
    "df2"
   ]
  },
  {
   "cell_type": "markdown",
   "metadata": {
    "id": "Z1BPsPHi0ezd"
   },
   "source": [
    "**Question 13 (2 points)**\n",
    "\n",
    "Use ```map()``` method to perform element-wise transformation on the generated categorical object and create a new series, according to the following rules:\n",
    "\n",
    "- if error is in range [0, 0.5] or (0.5, 1], transform as 'Accept'\n",
    "- if error is in range (1, 10] or (10, 50], transform as 'Reject'\n",
    "\n",
    "Use ```value_counts()``` to check the counts for these two types."
   ]
  },
  {
   "cell_type": "code",
   "execution_count": 162,
   "metadata": {},
   "outputs": [
    {
     "data": {
      "text/plain": [
       "acceptable_percentage_error_bins\n",
       "Accept    141\n",
       "Reject     68\n",
       "Name: count, dtype: int64"
      ]
     },
     "execution_count": 162,
     "metadata": {},
     "output_type": "execute_result"
    }
   ],
   "source": [
    "### Q13\n",
    "error_to_quality = {'[0, 0.5]': 'Accept', '(0.5, 1]': 'Accept', '(1, 10]':'Reject', '(10, 50]':'Reject'}\n",
    "\n",
    "df2['acceptable_percentage_error_bins'].astype(str).map(error_to_quality)\n",
    "\n",
    "df2['acceptable_percentage_error_bins'].astype(str).map(lambda x: error_to_quality[x]).value_counts()"
   ]
  }
 ],
 "metadata": {
  "colab": {
   "provenance": [
    {
     "file_id": "1Tg3IJl3yjaecdJvNbvSLTeauiEw6P5Rt",
     "timestamp": 1696168179514
    },
    {
     "file_id": "1ZcmKXUfv0BDRnvjTp5fnRgXkKN3rhnCS",
     "timestamp": 1695922999265
    }
   ]
  },
  "kernelspec": {
   "display_name": "base",
   "language": "python",
   "name": "python3"
  },
  "language_info": {
   "codemirror_mode": {
    "name": "ipython",
    "version": 3
   },
   "file_extension": ".py",
   "mimetype": "text/x-python",
   "name": "python",
   "nbconvert_exporter": "python",
   "pygments_lexer": "ipython3",
   "version": "3.12.4"
  },
  "latex_envs": {
   "LaTeX_envs_menu_present": true,
   "autoclose": false,
   "autocomplete": true,
   "bibliofile": "biblio.bib",
   "cite_by": "apalike",
   "current_citInitial": 1,
   "eqLabelWithNumbers": true,
   "eqNumInitial": 1,
   "hotkeys": {
    "equation": "Ctrl-E",
    "itemize": "Ctrl-I"
   },
   "labels_anchors": false,
   "latex_user_defs": false,
   "report_style_numbering": false,
   "user_envs_cfg": false
  }
 },
 "nbformat": 4,
 "nbformat_minor": 4
}
